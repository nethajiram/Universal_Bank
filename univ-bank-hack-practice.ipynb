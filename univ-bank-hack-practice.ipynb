{
 "cells": [
  {
   "cell_type": "markdown",
   "id": "b7cf0fc7",
   "metadata": {
    "papermill": {
     "duration": 0.024905,
     "end_time": "2023-03-27T07:19:20.835363",
     "exception": false,
     "start_time": "2023-03-27T07:19:20.810458",
     "status": "completed"
    },
    "tags": []
   },
   "source": [
    "# Importing Libraries"
   ]
  },
  {
   "cell_type": "code",
   "execution_count": 1,
   "id": "ad64a6f2",
   "metadata": {
    "execution": {
     "iopub.execute_input": "2023-03-27T07:19:20.884744Z",
     "iopub.status.busy": "2023-03-27T07:19:20.883751Z",
     "iopub.status.idle": "2023-03-27T07:19:22.199232Z",
     "shell.execute_reply": "2023-03-27T07:19:22.197802Z"
    },
    "papermill": {
     "duration": 1.343019,
     "end_time": "2023-03-27T07:19:22.202442",
     "exception": false,
     "start_time": "2023-03-27T07:19:20.859423",
     "status": "completed"
    },
    "tags": []
   },
   "outputs": [],
   "source": [
    "import pandas as pd\n",
    "import numpy as np\n",
    "import matplotlib.pyplot as plt\n",
    "import seaborn as sns"
   ]
  },
  {
   "cell_type": "code",
   "execution_count": 2,
   "id": "f49832b9",
   "metadata": {
    "execution": {
     "iopub.execute_input": "2023-03-27T07:19:22.251107Z",
     "iopub.status.busy": "2023-03-27T07:19:22.249920Z",
     "iopub.status.idle": "2023-03-27T07:19:22.259080Z",
     "shell.execute_reply": "2023-03-27T07:19:22.257382Z"
    },
    "papermill": {
     "duration": 0.038241,
     "end_time": "2023-03-27T07:19:22.263092",
     "exception": false,
     "start_time": "2023-03-27T07:19:22.224851",
     "status": "completed"
    },
    "tags": []
   },
   "outputs": [
    {
     "name": "stdout",
     "output_type": "stream",
     "text": [
      "/kaggle/input/universal-bank\n"
     ]
    }
   ],
   "source": [
    "cd /kaggle/input/universal-bank"
   ]
  },
  {
   "cell_type": "code",
   "execution_count": 3,
   "id": "8e875590",
   "metadata": {
    "execution": {
     "iopub.execute_input": "2023-03-27T07:19:22.310192Z",
     "iopub.status.busy": "2023-03-27T07:19:22.309761Z",
     "iopub.status.idle": "2023-03-27T07:19:22.341053Z",
     "shell.execute_reply": "2023-03-27T07:19:22.339950Z"
    },
    "papermill": {
     "duration": 0.057939,
     "end_time": "2023-03-27T07:19:22.343863",
     "exception": false,
     "start_time": "2023-03-27T07:19:22.285924",
     "status": "completed"
    },
    "tags": []
   },
   "outputs": [],
   "source": [
    "df=pd.read_csv(\"UnivBank.csv\",na_values=['.',':','?','!','@','#','$','%','^','&','*',','])"
   ]
  },
  {
   "cell_type": "code",
   "execution_count": 4,
   "id": "1fbebd96",
   "metadata": {
    "execution": {
     "iopub.execute_input": "2023-03-27T07:19:22.391062Z",
     "iopub.status.busy": "2023-03-27T07:19:22.390234Z",
     "iopub.status.idle": "2023-03-27T07:19:22.440807Z",
     "shell.execute_reply": "2023-03-27T07:19:22.439747Z"
    },
    "papermill": {
     "duration": 0.076213,
     "end_time": "2023-03-27T07:19:22.442982",
     "exception": false,
     "start_time": "2023-03-27T07:19:22.366769",
     "status": "completed"
    },
    "tags": []
   },
   "outputs": [
    {
     "data": {
      "text/html": [
       "<div>\n",
       "<style scoped>\n",
       "    .dataframe tbody tr th:only-of-type {\n",
       "        vertical-align: middle;\n",
       "    }\n",
       "\n",
       "    .dataframe tbody tr th {\n",
       "        vertical-align: top;\n",
       "    }\n",
       "\n",
       "    .dataframe thead th {\n",
       "        text-align: right;\n",
       "    }\n",
       "</style>\n",
       "<table border=\"1\" class=\"dataframe\">\n",
       "  <thead>\n",
       "    <tr style=\"text-align: right;\">\n",
       "      <th></th>\n",
       "      <th>ID</th>\n",
       "      <th>Age</th>\n",
       "      <th>Experience</th>\n",
       "      <th>Income</th>\n",
       "      <th>ZIP Code</th>\n",
       "      <th>Family</th>\n",
       "      <th>CCAvg</th>\n",
       "      <th>Education</th>\n",
       "      <th>Mortgage</th>\n",
       "      <th>Personal Loan</th>\n",
       "      <th>Securities Account</th>\n",
       "      <th>CD Account</th>\n",
       "      <th>Online</th>\n",
       "      <th>CreditCard</th>\n",
       "    </tr>\n",
       "  </thead>\n",
       "  <tbody>\n",
       "    <tr>\n",
       "      <th>0</th>\n",
       "      <td>1</td>\n",
       "      <td>25</td>\n",
       "      <td>1</td>\n",
       "      <td>49</td>\n",
       "      <td>91107</td>\n",
       "      <td>4</td>\n",
       "      <td>1.6</td>\n",
       "      <td>1</td>\n",
       "      <td>0.0</td>\n",
       "      <td>0</td>\n",
       "      <td>1.0</td>\n",
       "      <td>0.0</td>\n",
       "      <td>0</td>\n",
       "      <td>0</td>\n",
       "    </tr>\n",
       "    <tr>\n",
       "      <th>1</th>\n",
       "      <td>2</td>\n",
       "      <td>45</td>\n",
       "      <td>19</td>\n",
       "      <td>34</td>\n",
       "      <td>90089</td>\n",
       "      <td>3</td>\n",
       "      <td>1.5</td>\n",
       "      <td>1</td>\n",
       "      <td>0.0</td>\n",
       "      <td>0</td>\n",
       "      <td>1.0</td>\n",
       "      <td>0.0</td>\n",
       "      <td>0</td>\n",
       "      <td>0</td>\n",
       "    </tr>\n",
       "    <tr>\n",
       "      <th>2</th>\n",
       "      <td>3</td>\n",
       "      <td>39</td>\n",
       "      <td>15</td>\n",
       "      <td>11</td>\n",
       "      <td>94720</td>\n",
       "      <td>1</td>\n",
       "      <td>1.0</td>\n",
       "      <td>1</td>\n",
       "      <td>0.0</td>\n",
       "      <td>0</td>\n",
       "      <td>0.0</td>\n",
       "      <td>0.0</td>\n",
       "      <td>0</td>\n",
       "      <td>0</td>\n",
       "    </tr>\n",
       "    <tr>\n",
       "      <th>3</th>\n",
       "      <td>4</td>\n",
       "      <td>35</td>\n",
       "      <td>9</td>\n",
       "      <td>100</td>\n",
       "      <td>94112</td>\n",
       "      <td>1</td>\n",
       "      <td>2.7</td>\n",
       "      <td>2</td>\n",
       "      <td>0.0</td>\n",
       "      <td>0</td>\n",
       "      <td>0.0</td>\n",
       "      <td>NaN</td>\n",
       "      <td>0</td>\n",
       "      <td>0</td>\n",
       "    </tr>\n",
       "    <tr>\n",
       "      <th>4</th>\n",
       "      <td>5</td>\n",
       "      <td>35</td>\n",
       "      <td>8</td>\n",
       "      <td>45</td>\n",
       "      <td>91330</td>\n",
       "      <td>4</td>\n",
       "      <td>1.0</td>\n",
       "      <td>2</td>\n",
       "      <td>0.0</td>\n",
       "      <td>0</td>\n",
       "      <td>0.0</td>\n",
       "      <td>0.0</td>\n",
       "      <td>0</td>\n",
       "      <td>1</td>\n",
       "    </tr>\n",
       "    <tr>\n",
       "      <th>...</th>\n",
       "      <td>...</td>\n",
       "      <td>...</td>\n",
       "      <td>...</td>\n",
       "      <td>...</td>\n",
       "      <td>...</td>\n",
       "      <td>...</td>\n",
       "      <td>...</td>\n",
       "      <td>...</td>\n",
       "      <td>...</td>\n",
       "      <td>...</td>\n",
       "      <td>...</td>\n",
       "      <td>...</td>\n",
       "      <td>...</td>\n",
       "      <td>...</td>\n",
       "    </tr>\n",
       "    <tr>\n",
       "      <th>4995</th>\n",
       "      <td>4996</td>\n",
       "      <td>29</td>\n",
       "      <td>3</td>\n",
       "      <td>40</td>\n",
       "      <td>92697</td>\n",
       "      <td>1</td>\n",
       "      <td>1.9</td>\n",
       "      <td>3</td>\n",
       "      <td>0.0</td>\n",
       "      <td>0</td>\n",
       "      <td>0.0</td>\n",
       "      <td>0.0</td>\n",
       "      <td>1</td>\n",
       "      <td>0</td>\n",
       "    </tr>\n",
       "    <tr>\n",
       "      <th>4996</th>\n",
       "      <td>4997</td>\n",
       "      <td>30</td>\n",
       "      <td>4</td>\n",
       "      <td>15</td>\n",
       "      <td>92037</td>\n",
       "      <td>4</td>\n",
       "      <td>0.4</td>\n",
       "      <td>1</td>\n",
       "      <td>85.0</td>\n",
       "      <td>0</td>\n",
       "      <td>0.0</td>\n",
       "      <td>0.0</td>\n",
       "      <td>1</td>\n",
       "      <td>0</td>\n",
       "    </tr>\n",
       "    <tr>\n",
       "      <th>4997</th>\n",
       "      <td>4998</td>\n",
       "      <td>63</td>\n",
       "      <td>39</td>\n",
       "      <td>24</td>\n",
       "      <td>93023</td>\n",
       "      <td>2</td>\n",
       "      <td>0.3</td>\n",
       "      <td>3</td>\n",
       "      <td>0.0</td>\n",
       "      <td>0</td>\n",
       "      <td>0.0</td>\n",
       "      <td>0.0</td>\n",
       "      <td>0</td>\n",
       "      <td>0</td>\n",
       "    </tr>\n",
       "    <tr>\n",
       "      <th>4998</th>\n",
       "      <td>4999</td>\n",
       "      <td>65</td>\n",
       "      <td>40</td>\n",
       "      <td>49</td>\n",
       "      <td>90034</td>\n",
       "      <td>3</td>\n",
       "      <td>0.5</td>\n",
       "      <td>2</td>\n",
       "      <td>0.0</td>\n",
       "      <td>0</td>\n",
       "      <td>0.0</td>\n",
       "      <td>0.0</td>\n",
       "      <td>1</td>\n",
       "      <td>0</td>\n",
       "    </tr>\n",
       "    <tr>\n",
       "      <th>4999</th>\n",
       "      <td>5000</td>\n",
       "      <td>28</td>\n",
       "      <td>4</td>\n",
       "      <td>83</td>\n",
       "      <td>92612</td>\n",
       "      <td>3</td>\n",
       "      <td>0.8</td>\n",
       "      <td>1</td>\n",
       "      <td>0.0</td>\n",
       "      <td>0</td>\n",
       "      <td>0.0</td>\n",
       "      <td>0.0</td>\n",
       "      <td>1</td>\n",
       "      <td>1</td>\n",
       "    </tr>\n",
       "  </tbody>\n",
       "</table>\n",
       "<p>5000 rows × 14 columns</p>\n",
       "</div>"
      ],
      "text/plain": [
       "        ID  Age  Experience  Income  ZIP Code  Family  CCAvg  Education  \\\n",
       "0        1   25           1      49     91107       4    1.6          1   \n",
       "1        2   45          19      34     90089       3    1.5          1   \n",
       "2        3   39          15      11     94720       1    1.0          1   \n",
       "3        4   35           9     100     94112       1    2.7          2   \n",
       "4        5   35           8      45     91330       4    1.0          2   \n",
       "...    ...  ...         ...     ...       ...     ...    ...        ...   \n",
       "4995  4996   29           3      40     92697       1    1.9          3   \n",
       "4996  4997   30           4      15     92037       4    0.4          1   \n",
       "4997  4998   63          39      24     93023       2    0.3          3   \n",
       "4998  4999   65          40      49     90034       3    0.5          2   \n",
       "4999  5000   28           4      83     92612       3    0.8          1   \n",
       "\n",
       "      Mortgage  Personal Loan  Securities Account  CD Account  Online  \\\n",
       "0          0.0              0                 1.0         0.0       0   \n",
       "1          0.0              0                 1.0         0.0       0   \n",
       "2          0.0              0                 0.0         0.0       0   \n",
       "3          0.0              0                 0.0         NaN       0   \n",
       "4          0.0              0                 0.0         0.0       0   \n",
       "...        ...            ...                 ...         ...     ...   \n",
       "4995       0.0              0                 0.0         0.0       1   \n",
       "4996      85.0              0                 0.0         0.0       1   \n",
       "4997       0.0              0                 0.0         0.0       0   \n",
       "4998       0.0              0                 0.0         0.0       1   \n",
       "4999       0.0              0                 0.0         0.0       1   \n",
       "\n",
       "      CreditCard  \n",
       "0              0  \n",
       "1              0  \n",
       "2              0  \n",
       "3              0  \n",
       "4              1  \n",
       "...          ...  \n",
       "4995           0  \n",
       "4996           0  \n",
       "4997           0  \n",
       "4998           0  \n",
       "4999           1  \n",
       "\n",
       "[5000 rows x 14 columns]"
      ]
     },
     "execution_count": 4,
     "metadata": {},
     "output_type": "execute_result"
    }
   ],
   "source": [
    "df"
   ]
  },
  {
   "cell_type": "code",
   "execution_count": 5,
   "id": "92dafdb0",
   "metadata": {
    "execution": {
     "iopub.execute_input": "2023-03-27T07:19:22.489981Z",
     "iopub.status.busy": "2023-03-27T07:19:22.489163Z",
     "iopub.status.idle": "2023-03-27T07:19:22.556114Z",
     "shell.execute_reply": "2023-03-27T07:19:22.555038Z"
    },
    "papermill": {
     "duration": 0.093372,
     "end_time": "2023-03-27T07:19:22.558790",
     "exception": false,
     "start_time": "2023-03-27T07:19:22.465418",
     "status": "completed"
    },
    "tags": []
   },
   "outputs": [
    {
     "data": {
      "text/html": [
       "<div>\n",
       "<style scoped>\n",
       "    .dataframe tbody tr th:only-of-type {\n",
       "        vertical-align: middle;\n",
       "    }\n",
       "\n",
       "    .dataframe tbody tr th {\n",
       "        vertical-align: top;\n",
       "    }\n",
       "\n",
       "    .dataframe thead th {\n",
       "        text-align: right;\n",
       "    }\n",
       "</style>\n",
       "<table border=\"1\" class=\"dataframe\">\n",
       "  <thead>\n",
       "    <tr style=\"text-align: right;\">\n",
       "      <th></th>\n",
       "      <th>ID</th>\n",
       "      <th>Age</th>\n",
       "      <th>Experience</th>\n",
       "      <th>Income</th>\n",
       "      <th>ZIP Code</th>\n",
       "      <th>Family</th>\n",
       "      <th>CCAvg</th>\n",
       "      <th>Education</th>\n",
       "      <th>Mortgage</th>\n",
       "      <th>Personal Loan</th>\n",
       "      <th>Securities Account</th>\n",
       "      <th>CD Account</th>\n",
       "      <th>Online</th>\n",
       "      <th>CreditCard</th>\n",
       "    </tr>\n",
       "  </thead>\n",
       "  <tbody>\n",
       "    <tr>\n",
       "      <th>count</th>\n",
       "      <td>5000.000000</td>\n",
       "      <td>5000.000000</td>\n",
       "      <td>5000.000000</td>\n",
       "      <td>5000.000000</td>\n",
       "      <td>5000.000000</td>\n",
       "      <td>5000.000000</td>\n",
       "      <td>5000.000000</td>\n",
       "      <td>5000.000000</td>\n",
       "      <td>4998.000000</td>\n",
       "      <td>5000.000000</td>\n",
       "      <td>4998.000000</td>\n",
       "      <td>4999.000000</td>\n",
       "      <td>5000.000000</td>\n",
       "      <td>5000.000000</td>\n",
       "    </tr>\n",
       "    <tr>\n",
       "      <th>mean</th>\n",
       "      <td>2500.500000</td>\n",
       "      <td>45.338400</td>\n",
       "      <td>20.104600</td>\n",
       "      <td>73.774200</td>\n",
       "      <td>93152.503000</td>\n",
       "      <td>2.396400</td>\n",
       "      <td>1.937938</td>\n",
       "      <td>1.881000</td>\n",
       "      <td>56.521409</td>\n",
       "      <td>0.096000</td>\n",
       "      <td>0.104442</td>\n",
       "      <td>0.060412</td>\n",
       "      <td>0.596800</td>\n",
       "      <td>0.294000</td>\n",
       "    </tr>\n",
       "    <tr>\n",
       "      <th>std</th>\n",
       "      <td>1443.520003</td>\n",
       "      <td>11.463166</td>\n",
       "      <td>11.467954</td>\n",
       "      <td>46.033729</td>\n",
       "      <td>2121.852197</td>\n",
       "      <td>1.147663</td>\n",
       "      <td>1.747659</td>\n",
       "      <td>0.839869</td>\n",
       "      <td>101.727873</td>\n",
       "      <td>0.294621</td>\n",
       "      <td>0.305863</td>\n",
       "      <td>0.238273</td>\n",
       "      <td>0.490589</td>\n",
       "      <td>0.455637</td>\n",
       "    </tr>\n",
       "    <tr>\n",
       "      <th>min</th>\n",
       "      <td>1.000000</td>\n",
       "      <td>23.000000</td>\n",
       "      <td>-3.000000</td>\n",
       "      <td>8.000000</td>\n",
       "      <td>9307.000000</td>\n",
       "      <td>1.000000</td>\n",
       "      <td>0.000000</td>\n",
       "      <td>1.000000</td>\n",
       "      <td>0.000000</td>\n",
       "      <td>0.000000</td>\n",
       "      <td>0.000000</td>\n",
       "      <td>0.000000</td>\n",
       "      <td>0.000000</td>\n",
       "      <td>0.000000</td>\n",
       "    </tr>\n",
       "    <tr>\n",
       "      <th>25%</th>\n",
       "      <td>1250.750000</td>\n",
       "      <td>35.000000</td>\n",
       "      <td>10.000000</td>\n",
       "      <td>39.000000</td>\n",
       "      <td>91911.000000</td>\n",
       "      <td>1.000000</td>\n",
       "      <td>0.700000</td>\n",
       "      <td>1.000000</td>\n",
       "      <td>0.000000</td>\n",
       "      <td>0.000000</td>\n",
       "      <td>0.000000</td>\n",
       "      <td>0.000000</td>\n",
       "      <td>0.000000</td>\n",
       "      <td>0.000000</td>\n",
       "    </tr>\n",
       "    <tr>\n",
       "      <th>50%</th>\n",
       "      <td>2500.500000</td>\n",
       "      <td>45.000000</td>\n",
       "      <td>20.000000</td>\n",
       "      <td>64.000000</td>\n",
       "      <td>93437.000000</td>\n",
       "      <td>2.000000</td>\n",
       "      <td>1.500000</td>\n",
       "      <td>2.000000</td>\n",
       "      <td>0.000000</td>\n",
       "      <td>0.000000</td>\n",
       "      <td>0.000000</td>\n",
       "      <td>0.000000</td>\n",
       "      <td>1.000000</td>\n",
       "      <td>0.000000</td>\n",
       "    </tr>\n",
       "    <tr>\n",
       "      <th>75%</th>\n",
       "      <td>3750.250000</td>\n",
       "      <td>55.000000</td>\n",
       "      <td>30.000000</td>\n",
       "      <td>98.000000</td>\n",
       "      <td>94608.000000</td>\n",
       "      <td>3.000000</td>\n",
       "      <td>2.500000</td>\n",
       "      <td>3.000000</td>\n",
       "      <td>101.000000</td>\n",
       "      <td>0.000000</td>\n",
       "      <td>0.000000</td>\n",
       "      <td>0.000000</td>\n",
       "      <td>1.000000</td>\n",
       "      <td>1.000000</td>\n",
       "    </tr>\n",
       "    <tr>\n",
       "      <th>max</th>\n",
       "      <td>5000.000000</td>\n",
       "      <td>67.000000</td>\n",
       "      <td>43.000000</td>\n",
       "      <td>224.000000</td>\n",
       "      <td>96651.000000</td>\n",
       "      <td>4.000000</td>\n",
       "      <td>10.000000</td>\n",
       "      <td>3.000000</td>\n",
       "      <td>635.000000</td>\n",
       "      <td>1.000000</td>\n",
       "      <td>1.000000</td>\n",
       "      <td>1.000000</td>\n",
       "      <td>1.000000</td>\n",
       "      <td>1.000000</td>\n",
       "    </tr>\n",
       "  </tbody>\n",
       "</table>\n",
       "</div>"
      ],
      "text/plain": [
       "                ID          Age   Experience       Income      ZIP Code  \\\n",
       "count  5000.000000  5000.000000  5000.000000  5000.000000   5000.000000   \n",
       "mean   2500.500000    45.338400    20.104600    73.774200  93152.503000   \n",
       "std    1443.520003    11.463166    11.467954    46.033729   2121.852197   \n",
       "min       1.000000    23.000000    -3.000000     8.000000   9307.000000   \n",
       "25%    1250.750000    35.000000    10.000000    39.000000  91911.000000   \n",
       "50%    2500.500000    45.000000    20.000000    64.000000  93437.000000   \n",
       "75%    3750.250000    55.000000    30.000000    98.000000  94608.000000   \n",
       "max    5000.000000    67.000000    43.000000   224.000000  96651.000000   \n",
       "\n",
       "            Family        CCAvg    Education     Mortgage  Personal Loan  \\\n",
       "count  5000.000000  5000.000000  5000.000000  4998.000000    5000.000000   \n",
       "mean      2.396400     1.937938     1.881000    56.521409       0.096000   \n",
       "std       1.147663     1.747659     0.839869   101.727873       0.294621   \n",
       "min       1.000000     0.000000     1.000000     0.000000       0.000000   \n",
       "25%       1.000000     0.700000     1.000000     0.000000       0.000000   \n",
       "50%       2.000000     1.500000     2.000000     0.000000       0.000000   \n",
       "75%       3.000000     2.500000     3.000000   101.000000       0.000000   \n",
       "max       4.000000    10.000000     3.000000   635.000000       1.000000   \n",
       "\n",
       "       Securities Account   CD Account       Online   CreditCard  \n",
       "count         4998.000000  4999.000000  5000.000000  5000.000000  \n",
       "mean             0.104442     0.060412     0.596800     0.294000  \n",
       "std              0.305863     0.238273     0.490589     0.455637  \n",
       "min              0.000000     0.000000     0.000000     0.000000  \n",
       "25%              0.000000     0.000000     0.000000     0.000000  \n",
       "50%              0.000000     0.000000     1.000000     0.000000  \n",
       "75%              0.000000     0.000000     1.000000     1.000000  \n",
       "max              1.000000     1.000000     1.000000     1.000000  "
      ]
     },
     "execution_count": 5,
     "metadata": {},
     "output_type": "execute_result"
    }
   ],
   "source": [
    "df.describe()"
   ]
  },
  {
   "cell_type": "code",
   "execution_count": 6,
   "id": "c1786116",
   "metadata": {
    "execution": {
     "iopub.execute_input": "2023-03-27T07:19:22.605929Z",
     "iopub.status.busy": "2023-03-27T07:19:22.605530Z",
     "iopub.status.idle": "2023-03-27T07:19:22.614604Z",
     "shell.execute_reply": "2023-03-27T07:19:22.613131Z"
    },
    "papermill": {
     "duration": 0.035591,
     "end_time": "2023-03-27T07:19:22.617170",
     "exception": false,
     "start_time": "2023-03-27T07:19:22.581579",
     "status": "completed"
    },
    "tags": []
   },
   "outputs": [
    {
     "data": {
      "text/plain": [
       "ID                      int64\n",
       "Age                     int64\n",
       "Experience              int64\n",
       "Income                  int64\n",
       "ZIP Code                int64\n",
       "Family                  int64\n",
       "CCAvg                 float64\n",
       "Education               int64\n",
       "Mortgage              float64\n",
       "Personal Loan           int64\n",
       "Securities Account    float64\n",
       "CD Account            float64\n",
       "Online                  int64\n",
       "CreditCard              int64\n",
       "dtype: object"
      ]
     },
     "execution_count": 6,
     "metadata": {},
     "output_type": "execute_result"
    }
   ],
   "source": [
    "df.dtypes"
   ]
  },
  {
   "cell_type": "code",
   "execution_count": 7,
   "id": "a4331b32",
   "metadata": {
    "execution": {
     "iopub.execute_input": "2023-03-27T07:19:22.664404Z",
     "iopub.status.busy": "2023-03-27T07:19:22.663988Z",
     "iopub.status.idle": "2023-03-27T07:19:22.677949Z",
     "shell.execute_reply": "2023-03-27T07:19:22.676753Z"
    },
    "papermill": {
     "duration": 0.040405,
     "end_time": "2023-03-27T07:19:22.680385",
     "exception": false,
     "start_time": "2023-03-27T07:19:22.639980",
     "status": "completed"
    },
    "tags": []
   },
   "outputs": [
    {
     "data": {
      "text/plain": [
       "ID                    5000\n",
       "Age                     45\n",
       "Experience              47\n",
       "Income                 162\n",
       "ZIP Code               467\n",
       "Family                   4\n",
       "CCAvg                  108\n",
       "Education                3\n",
       "Mortgage               347\n",
       "Personal Loan            2\n",
       "Securities Account       2\n",
       "CD Account               2\n",
       "Online                   2\n",
       "CreditCard               2\n",
       "dtype: int64"
      ]
     },
     "execution_count": 7,
     "metadata": {},
     "output_type": "execute_result"
    }
   ],
   "source": [
    "df.nunique()"
   ]
  },
  {
   "cell_type": "code",
   "execution_count": 8,
   "id": "ab06dba2",
   "metadata": {
    "execution": {
     "iopub.execute_input": "2023-03-27T07:19:22.728858Z",
     "iopub.status.busy": "2023-03-27T07:19:22.728429Z",
     "iopub.status.idle": "2023-03-27T07:19:22.735916Z",
     "shell.execute_reply": "2023-03-27T07:19:22.734679Z"
    },
    "papermill": {
     "duration": 0.034864,
     "end_time": "2023-03-27T07:19:22.738568",
     "exception": false,
     "start_time": "2023-03-27T07:19:22.703704",
     "status": "completed"
    },
    "tags": []
   },
   "outputs": [],
   "source": [
    "df = df.drop([\"ZIP Code\",\"ID\"], axis=1)"
   ]
  },
  {
   "cell_type": "code",
   "execution_count": 9,
   "id": "30500df0",
   "metadata": {
    "execution": {
     "iopub.execute_input": "2023-03-27T07:19:22.786012Z",
     "iopub.status.busy": "2023-03-27T07:19:22.785572Z",
     "iopub.status.idle": "2023-03-27T07:19:22.795891Z",
     "shell.execute_reply": "2023-03-27T07:19:22.794732Z"
    },
    "papermill": {
     "duration": 0.037152,
     "end_time": "2023-03-27T07:19:22.798544",
     "exception": false,
     "start_time": "2023-03-27T07:19:22.761392",
     "status": "completed"
    },
    "tags": []
   },
   "outputs": [
    {
     "data": {
      "text/plain": [
       "Age                   0\n",
       "Experience            0\n",
       "Income                0\n",
       "Family                0\n",
       "CCAvg                 0\n",
       "Education             0\n",
       "Mortgage              2\n",
       "Personal Loan         0\n",
       "Securities Account    2\n",
       "CD Account            1\n",
       "Online                0\n",
       "CreditCard            0\n",
       "dtype: int64"
      ]
     },
     "execution_count": 9,
     "metadata": {},
     "output_type": "execute_result"
    }
   ],
   "source": [
    "df.isnull().sum()"
   ]
  },
  {
   "cell_type": "code",
   "execution_count": 10,
   "id": "f0d165de",
   "metadata": {
    "execution": {
     "iopub.execute_input": "2023-03-27T07:19:22.846703Z",
     "iopub.status.busy": "2023-03-27T07:19:22.846220Z",
     "iopub.status.idle": "2023-03-27T07:19:22.870567Z",
     "shell.execute_reply": "2023-03-27T07:19:22.869600Z"
    },
    "papermill": {
     "duration": 0.051467,
     "end_time": "2023-03-27T07:19:22.873120",
     "exception": false,
     "start_time": "2023-03-27T07:19:22.821653",
     "status": "completed"
    },
    "tags": []
   },
   "outputs": [
    {
     "data": {
      "text/html": [
       "<div>\n",
       "<style scoped>\n",
       "    .dataframe tbody tr th:only-of-type {\n",
       "        vertical-align: middle;\n",
       "    }\n",
       "\n",
       "    .dataframe tbody tr th {\n",
       "        vertical-align: top;\n",
       "    }\n",
       "\n",
       "    .dataframe thead th {\n",
       "        text-align: right;\n",
       "    }\n",
       "</style>\n",
       "<table border=\"1\" class=\"dataframe\">\n",
       "  <thead>\n",
       "    <tr style=\"text-align: right;\">\n",
       "      <th></th>\n",
       "      <th>Age</th>\n",
       "      <th>Experience</th>\n",
       "      <th>Income</th>\n",
       "      <th>Family</th>\n",
       "      <th>CCAvg</th>\n",
       "      <th>Education</th>\n",
       "      <th>Mortgage</th>\n",
       "      <th>Personal Loan</th>\n",
       "      <th>Securities Account</th>\n",
       "      <th>CD Account</th>\n",
       "      <th>Online</th>\n",
       "      <th>CreditCard</th>\n",
       "    </tr>\n",
       "  </thead>\n",
       "  <tbody>\n",
       "    <tr>\n",
       "      <th>0</th>\n",
       "      <td>25</td>\n",
       "      <td>1</td>\n",
       "      <td>49</td>\n",
       "      <td>4</td>\n",
       "      <td>1.6</td>\n",
       "      <td>1</td>\n",
       "      <td>0.0</td>\n",
       "      <td>0</td>\n",
       "      <td>1.0</td>\n",
       "      <td>0.0</td>\n",
       "      <td>0</td>\n",
       "      <td>0</td>\n",
       "    </tr>\n",
       "    <tr>\n",
       "      <th>1</th>\n",
       "      <td>45</td>\n",
       "      <td>19</td>\n",
       "      <td>34</td>\n",
       "      <td>3</td>\n",
       "      <td>1.5</td>\n",
       "      <td>1</td>\n",
       "      <td>0.0</td>\n",
       "      <td>0</td>\n",
       "      <td>1.0</td>\n",
       "      <td>0.0</td>\n",
       "      <td>0</td>\n",
       "      <td>0</td>\n",
       "    </tr>\n",
       "    <tr>\n",
       "      <th>2</th>\n",
       "      <td>39</td>\n",
       "      <td>15</td>\n",
       "      <td>11</td>\n",
       "      <td>1</td>\n",
       "      <td>1.0</td>\n",
       "      <td>1</td>\n",
       "      <td>0.0</td>\n",
       "      <td>0</td>\n",
       "      <td>0.0</td>\n",
       "      <td>0.0</td>\n",
       "      <td>0</td>\n",
       "      <td>0</td>\n",
       "    </tr>\n",
       "    <tr>\n",
       "      <th>3</th>\n",
       "      <td>35</td>\n",
       "      <td>9</td>\n",
       "      <td>100</td>\n",
       "      <td>1</td>\n",
       "      <td>2.7</td>\n",
       "      <td>2</td>\n",
       "      <td>0.0</td>\n",
       "      <td>0</td>\n",
       "      <td>0.0</td>\n",
       "      <td>NaN</td>\n",
       "      <td>0</td>\n",
       "      <td>0</td>\n",
       "    </tr>\n",
       "    <tr>\n",
       "      <th>4</th>\n",
       "      <td>35</td>\n",
       "      <td>8</td>\n",
       "      <td>45</td>\n",
       "      <td>4</td>\n",
       "      <td>1.0</td>\n",
       "      <td>2</td>\n",
       "      <td>0.0</td>\n",
       "      <td>0</td>\n",
       "      <td>0.0</td>\n",
       "      <td>0.0</td>\n",
       "      <td>0</td>\n",
       "      <td>1</td>\n",
       "    </tr>\n",
       "    <tr>\n",
       "      <th>...</th>\n",
       "      <td>...</td>\n",
       "      <td>...</td>\n",
       "      <td>...</td>\n",
       "      <td>...</td>\n",
       "      <td>...</td>\n",
       "      <td>...</td>\n",
       "      <td>...</td>\n",
       "      <td>...</td>\n",
       "      <td>...</td>\n",
       "      <td>...</td>\n",
       "      <td>...</td>\n",
       "      <td>...</td>\n",
       "    </tr>\n",
       "    <tr>\n",
       "      <th>4995</th>\n",
       "      <td>29</td>\n",
       "      <td>3</td>\n",
       "      <td>40</td>\n",
       "      <td>1</td>\n",
       "      <td>1.9</td>\n",
       "      <td>3</td>\n",
       "      <td>0.0</td>\n",
       "      <td>0</td>\n",
       "      <td>0.0</td>\n",
       "      <td>0.0</td>\n",
       "      <td>1</td>\n",
       "      <td>0</td>\n",
       "    </tr>\n",
       "    <tr>\n",
       "      <th>4996</th>\n",
       "      <td>30</td>\n",
       "      <td>4</td>\n",
       "      <td>15</td>\n",
       "      <td>4</td>\n",
       "      <td>0.4</td>\n",
       "      <td>1</td>\n",
       "      <td>85.0</td>\n",
       "      <td>0</td>\n",
       "      <td>0.0</td>\n",
       "      <td>0.0</td>\n",
       "      <td>1</td>\n",
       "      <td>0</td>\n",
       "    </tr>\n",
       "    <tr>\n",
       "      <th>4997</th>\n",
       "      <td>63</td>\n",
       "      <td>39</td>\n",
       "      <td>24</td>\n",
       "      <td>2</td>\n",
       "      <td>0.3</td>\n",
       "      <td>3</td>\n",
       "      <td>0.0</td>\n",
       "      <td>0</td>\n",
       "      <td>0.0</td>\n",
       "      <td>0.0</td>\n",
       "      <td>0</td>\n",
       "      <td>0</td>\n",
       "    </tr>\n",
       "    <tr>\n",
       "      <th>4998</th>\n",
       "      <td>65</td>\n",
       "      <td>40</td>\n",
       "      <td>49</td>\n",
       "      <td>3</td>\n",
       "      <td>0.5</td>\n",
       "      <td>2</td>\n",
       "      <td>0.0</td>\n",
       "      <td>0</td>\n",
       "      <td>0.0</td>\n",
       "      <td>0.0</td>\n",
       "      <td>1</td>\n",
       "      <td>0</td>\n",
       "    </tr>\n",
       "    <tr>\n",
       "      <th>4999</th>\n",
       "      <td>28</td>\n",
       "      <td>4</td>\n",
       "      <td>83</td>\n",
       "      <td>3</td>\n",
       "      <td>0.8</td>\n",
       "      <td>1</td>\n",
       "      <td>0.0</td>\n",
       "      <td>0</td>\n",
       "      <td>0.0</td>\n",
       "      <td>0.0</td>\n",
       "      <td>1</td>\n",
       "      <td>1</td>\n",
       "    </tr>\n",
       "  </tbody>\n",
       "</table>\n",
       "<p>5000 rows × 12 columns</p>\n",
       "</div>"
      ],
      "text/plain": [
       "      Age  Experience  Income  Family  CCAvg  Education  Mortgage  \\\n",
       "0      25           1      49       4    1.6          1       0.0   \n",
       "1      45          19      34       3    1.5          1       0.0   \n",
       "2      39          15      11       1    1.0          1       0.0   \n",
       "3      35           9     100       1    2.7          2       0.0   \n",
       "4      35           8      45       4    1.0          2       0.0   \n",
       "...   ...         ...     ...     ...    ...        ...       ...   \n",
       "4995   29           3      40       1    1.9          3       0.0   \n",
       "4996   30           4      15       4    0.4          1      85.0   \n",
       "4997   63          39      24       2    0.3          3       0.0   \n",
       "4998   65          40      49       3    0.5          2       0.0   \n",
       "4999   28           4      83       3    0.8          1       0.0   \n",
       "\n",
       "      Personal Loan  Securities Account  CD Account  Online  CreditCard  \n",
       "0                 0                 1.0         0.0       0           0  \n",
       "1                 0                 1.0         0.0       0           0  \n",
       "2                 0                 0.0         0.0       0           0  \n",
       "3                 0                 0.0         NaN       0           0  \n",
       "4                 0                 0.0         0.0       0           1  \n",
       "...             ...                 ...         ...     ...         ...  \n",
       "4995              0                 0.0         0.0       1           0  \n",
       "4996              0                 0.0         0.0       1           0  \n",
       "4997              0                 0.0         0.0       0           0  \n",
       "4998              0                 0.0         0.0       1           0  \n",
       "4999              0                 0.0         0.0       1           1  \n",
       "\n",
       "[5000 rows x 12 columns]"
      ]
     },
     "execution_count": 10,
     "metadata": {},
     "output_type": "execute_result"
    }
   ],
   "source": [
    "df"
   ]
  },
  {
   "cell_type": "code",
   "execution_count": 11,
   "id": "867156c8",
   "metadata": {
    "execution": {
     "iopub.execute_input": "2023-03-27T07:19:22.922335Z",
     "iopub.status.busy": "2023-03-27T07:19:22.921856Z",
     "iopub.status.idle": "2023-03-27T07:19:22.928740Z",
     "shell.execute_reply": "2023-03-27T07:19:22.927820Z"
    },
    "papermill": {
     "duration": 0.034419,
     "end_time": "2023-03-27T07:19:22.930954",
     "exception": false,
     "start_time": "2023-03-27T07:19:22.896535",
     "status": "completed"
    },
    "tags": []
   },
   "outputs": [
    {
     "data": {
      "text/plain": [
       "Index(['Age', 'Experience', 'Income', 'Family', 'CCAvg', 'Education',\n",
       "       'Mortgage', 'Personal Loan', 'Securities Account', 'CD Account',\n",
       "       'Online', 'CreditCard'],\n",
       "      dtype='object')"
      ]
     },
     "execution_count": 11,
     "metadata": {},
     "output_type": "execute_result"
    }
   ],
   "source": [
    "df.columns"
   ]
  },
  {
   "cell_type": "code",
   "execution_count": 12,
   "id": "2b87cabe",
   "metadata": {
    "execution": {
     "iopub.execute_input": "2023-03-27T07:19:22.979871Z",
     "iopub.status.busy": "2023-03-27T07:19:22.979448Z",
     "iopub.status.idle": "2023-03-27T07:19:22.990977Z",
     "shell.execute_reply": "2023-03-27T07:19:22.989882Z"
    },
    "papermill": {
     "duration": 0.039399,
     "end_time": "2023-03-27T07:19:22.993861",
     "exception": false,
     "start_time": "2023-03-27T07:19:22.954462",
     "status": "completed"
    },
    "tags": []
   },
   "outputs": [],
   "source": [
    "for col in ['Education','Securities Account','CD Account','Online','CreditCard','Family']:\n",
    "    df[col] = df[col].astype('category')"
   ]
  },
  {
   "cell_type": "code",
   "execution_count": 13,
   "id": "59d84e8d",
   "metadata": {
    "execution": {
     "iopub.execute_input": "2023-03-27T07:19:23.043277Z",
     "iopub.status.busy": "2023-03-27T07:19:23.042854Z",
     "iopub.status.idle": "2023-03-27T07:19:23.047951Z",
     "shell.execute_reply": "2023-03-27T07:19:23.046609Z"
    },
    "papermill": {
     "duration": 0.032387,
     "end_time": "2023-03-27T07:19:23.050405",
     "exception": false,
     "start_time": "2023-03-27T07:19:23.018018",
     "status": "completed"
    },
    "tags": []
   },
   "outputs": [],
   "source": [
    "cat_cols=['Education','Securities Account','CD Account','Online','CreditCard']"
   ]
  },
  {
   "cell_type": "code",
   "execution_count": 14,
   "id": "299d828a",
   "metadata": {
    "execution": {
     "iopub.execute_input": "2023-03-27T07:19:23.101079Z",
     "iopub.status.busy": "2023-03-27T07:19:23.100677Z",
     "iopub.status.idle": "2023-03-27T07:19:23.107861Z",
     "shell.execute_reply": "2023-03-27T07:19:23.106492Z"
    },
    "papermill": {
     "duration": 0.03649,
     "end_time": "2023-03-27T07:19:23.110498",
     "exception": false,
     "start_time": "2023-03-27T07:19:23.074008",
     "status": "completed"
    },
    "tags": []
   },
   "outputs": [
    {
     "data": {
      "text/plain": [
       "['Education', 'Securities Account', 'CD Account', 'Online', 'CreditCard']"
      ]
     },
     "execution_count": 14,
     "metadata": {},
     "output_type": "execute_result"
    }
   ],
   "source": [
    "cat_cols"
   ]
  },
  {
   "cell_type": "code",
   "execution_count": 15,
   "id": "98f0c5d5",
   "metadata": {
    "execution": {
     "iopub.execute_input": "2023-03-27T07:19:23.162914Z",
     "iopub.status.busy": "2023-03-27T07:19:23.162420Z",
     "iopub.status.idle": "2023-03-27T07:19:23.168953Z",
     "shell.execute_reply": "2023-03-27T07:19:23.167478Z"
    },
    "papermill": {
     "duration": 0.037192,
     "end_time": "2023-03-27T07:19:23.171971",
     "exception": false,
     "start_time": "2023-03-27T07:19:23.134779",
     "status": "completed"
    },
    "tags": []
   },
   "outputs": [],
   "source": [
    "num_cols=['Age', 'CCAvg', 'Experience', 'Income', 'Mortgage']"
   ]
  },
  {
   "cell_type": "code",
   "execution_count": 16,
   "id": "6e276b1b",
   "metadata": {
    "execution": {
     "iopub.execute_input": "2023-03-27T07:19:23.223228Z",
     "iopub.status.busy": "2023-03-27T07:19:23.222110Z",
     "iopub.status.idle": "2023-03-27T07:19:23.229990Z",
     "shell.execute_reply": "2023-03-27T07:19:23.228936Z"
    },
    "papermill": {
     "duration": 0.036554,
     "end_time": "2023-03-27T07:19:23.232297",
     "exception": false,
     "start_time": "2023-03-27T07:19:23.195743",
     "status": "completed"
    },
    "tags": []
   },
   "outputs": [
    {
     "data": {
      "text/plain": [
       "['Education', 'Securities Account', 'CD Account', 'Online', 'CreditCard']"
      ]
     },
     "execution_count": 16,
     "metadata": {},
     "output_type": "execute_result"
    }
   ],
   "source": [
    "cat_cols"
   ]
  },
  {
   "cell_type": "markdown",
   "id": "3ed889e2",
   "metadata": {
    "papermill": {
     "duration": 0.023518,
     "end_time": "2023-03-27T07:19:23.280630",
     "exception": false,
     "start_time": "2023-03-27T07:19:23.257112",
     "status": "completed"
    },
    "tags": []
   },
   "source": [
    "## Splitting"
   ]
  },
  {
   "cell_type": "code",
   "execution_count": 17,
   "id": "ed67e6a9",
   "metadata": {
    "execution": {
     "iopub.execute_input": "2023-03-27T07:19:23.329765Z",
     "iopub.status.busy": "2023-03-27T07:19:23.329332Z",
     "iopub.status.idle": "2023-03-27T07:19:25.130797Z",
     "shell.execute_reply": "2023-03-27T07:19:25.129330Z"
    },
    "papermill": {
     "duration": 1.829438,
     "end_time": "2023-03-27T07:19:25.133839",
     "exception": false,
     "start_time": "2023-03-27T07:19:23.304401",
     "status": "completed"
    },
    "tags": []
   },
   "outputs": [],
   "source": [
    "import statsmodels.api as sm\n",
    "from sklearn.model_selection import train_test_split"
   ]
  },
  {
   "cell_type": "code",
   "execution_count": 18,
   "id": "ba71756f",
   "metadata": {
    "execution": {
     "iopub.execute_input": "2023-03-27T07:19:25.184572Z",
     "iopub.status.busy": "2023-03-27T07:19:25.183608Z",
     "iopub.status.idle": "2023-03-27T07:19:25.192122Z",
     "shell.execute_reply": "2023-03-27T07:19:25.190737Z"
    },
    "papermill": {
     "duration": 0.037017,
     "end_time": "2023-03-27T07:19:25.194789",
     "exception": false,
     "start_time": "2023-03-27T07:19:25.157772",
     "status": "completed"
    },
    "tags": []
   },
   "outputs": [],
   "source": [
    "X = df.drop('Personal Loan',axis=1)\n",
    "y= df['Personal Loan']"
   ]
  },
  {
   "cell_type": "code",
   "execution_count": 19,
   "id": "94bd5cc6",
   "metadata": {
    "execution": {
     "iopub.execute_input": "2023-03-27T07:19:25.244992Z",
     "iopub.status.busy": "2023-03-27T07:19:25.244577Z",
     "iopub.status.idle": "2023-03-27T07:19:25.258854Z",
     "shell.execute_reply": "2023-03-27T07:19:25.257601Z"
    },
    "papermill": {
     "duration": 0.042641,
     "end_time": "2023-03-27T07:19:25.261630",
     "exception": false,
     "start_time": "2023-03-27T07:19:25.218989",
     "status": "completed"
    },
    "tags": []
   },
   "outputs": [],
   "source": [
    "X_train, X_test, y_train, y_test = train_test_split(X, y, test_size=0.3, random_state=255, stratify=y)"
   ]
  },
  {
   "cell_type": "code",
   "execution_count": 20,
   "id": "2f83e757",
   "metadata": {
    "execution": {
     "iopub.execute_input": "2023-03-27T07:19:25.312042Z",
     "iopub.status.busy": "2023-03-27T07:19:25.310893Z",
     "iopub.status.idle": "2023-03-27T07:19:25.318317Z",
     "shell.execute_reply": "2023-03-27T07:19:25.316490Z"
    },
    "papermill": {
     "duration": 0.035331,
     "end_time": "2023-03-27T07:19:25.320781",
     "exception": false,
     "start_time": "2023-03-27T07:19:25.285450",
     "status": "completed"
    },
    "tags": []
   },
   "outputs": [
    {
     "name": "stdout",
     "output_type": "stream",
     "text": [
      "(3500, 11)\n",
      "(1500, 11)\n",
      "(3500,)\n",
      "(1500,)\n"
     ]
    }
   ],
   "source": [
    "print(X_train.shape)\n",
    "print(X_test.shape)\n",
    "print(y_train.shape)\n",
    "print(y_test.shape)"
   ]
  },
  {
   "cell_type": "code",
   "execution_count": 21,
   "id": "2eabfc12",
   "metadata": {
    "execution": {
     "iopub.execute_input": "2023-03-27T07:19:25.371727Z",
     "iopub.status.busy": "2023-03-27T07:19:25.371250Z",
     "iopub.status.idle": "2023-03-27T07:19:25.381437Z",
     "shell.execute_reply": "2023-03-27T07:19:25.380216Z"
    },
    "papermill": {
     "duration": 0.038808,
     "end_time": "2023-03-27T07:19:25.384041",
     "exception": false,
     "start_time": "2023-03-27T07:19:25.345233",
     "status": "completed"
    },
    "tags": []
   },
   "outputs": [
    {
     "data": {
      "text/plain": [
       "0    0.904\n",
       "1    0.096\n",
       "Name: Personal Loan, dtype: float64"
      ]
     },
     "execution_count": 21,
     "metadata": {},
     "output_type": "execute_result"
    }
   ],
   "source": [
    "df[\"Personal Loan\"].value_counts(normalize=True)"
   ]
  },
  {
   "cell_type": "code",
   "execution_count": 22,
   "id": "1666b823",
   "metadata": {
    "execution": {
     "iopub.execute_input": "2023-03-27T07:19:25.435604Z",
     "iopub.status.busy": "2023-03-27T07:19:25.435202Z",
     "iopub.status.idle": "2023-03-27T07:19:25.444296Z",
     "shell.execute_reply": "2023-03-27T07:19:25.442953Z"
    },
    "papermill": {
     "duration": 0.037974,
     "end_time": "2023-03-27T07:19:25.447133",
     "exception": false,
     "start_time": "2023-03-27T07:19:25.409159",
     "status": "completed"
    },
    "tags": []
   },
   "outputs": [
    {
     "data": {
      "text/plain": [
       "0    0.904\n",
       "1    0.096\n",
       "Name: Personal Loan, dtype: float64"
      ]
     },
     "execution_count": 22,
     "metadata": {},
     "output_type": "execute_result"
    }
   ],
   "source": [
    "y_train.value_counts(normalize=True)"
   ]
  },
  {
   "cell_type": "code",
   "execution_count": 23,
   "id": "7d0549b1",
   "metadata": {
    "execution": {
     "iopub.execute_input": "2023-03-27T07:19:25.499176Z",
     "iopub.status.busy": "2023-03-27T07:19:25.498713Z",
     "iopub.status.idle": "2023-03-27T07:19:25.507537Z",
     "shell.execute_reply": "2023-03-27T07:19:25.506537Z"
    },
    "papermill": {
     "duration": 0.03739,
     "end_time": "2023-03-27T07:19:25.509936",
     "exception": false,
     "start_time": "2023-03-27T07:19:25.472546",
     "status": "completed"
    },
    "tags": []
   },
   "outputs": [
    {
     "data": {
      "text/plain": [
       "0    0.904\n",
       "1    0.096\n",
       "Name: Personal Loan, dtype: float64"
      ]
     },
     "execution_count": 23,
     "metadata": {},
     "output_type": "execute_result"
    }
   ],
   "source": [
    "y_test.value_counts(normalize=True)"
   ]
  },
  {
   "cell_type": "markdown",
   "id": "419da6fe",
   "metadata": {
    "papermill": {
     "duration": 0.024863,
     "end_time": "2023-03-27T07:19:25.560014",
     "exception": false,
     "start_time": "2023-03-27T07:19:25.535151",
     "status": "completed"
    },
    "tags": []
   },
   "source": [
    "## Imputation"
   ]
  },
  {
   "cell_type": "code",
   "execution_count": 24,
   "id": "d36cb6c9",
   "metadata": {
    "execution": {
     "iopub.execute_input": "2023-03-27T07:19:25.612164Z",
     "iopub.status.busy": "2023-03-27T07:19:25.611738Z",
     "iopub.status.idle": "2023-03-27T07:19:25.863226Z",
     "shell.execute_reply": "2023-03-27T07:19:25.862170Z"
    },
    "papermill": {
     "duration": 0.281161,
     "end_time": "2023-03-27T07:19:25.865914",
     "exception": false,
     "start_time": "2023-03-27T07:19:25.584753",
     "status": "completed"
    },
    "tags": []
   },
   "outputs": [],
   "source": [
    "from sklearn.impute import SimpleImputer\n",
    "imputer_num = SimpleImputer(strategy='median')\n",
    "imputer_num = imputer_num.fit(X_train[num_cols])\n",
    "X_train_num_imp = pd.DataFrame(imputer_num.transform(X_train[num_cols]), columns=(X_train[num_cols]).columns)\n",
    "X_test_num_imp = pd.DataFrame(imputer_num.transform(X_test[num_cols]), columns=(X_test[num_cols]).columns)"
   ]
  },
  {
   "cell_type": "code",
   "execution_count": 25,
   "id": "37a9b5aa",
   "metadata": {
    "execution": {
     "iopub.execute_input": "2023-03-27T07:19:25.921058Z",
     "iopub.status.busy": "2023-03-27T07:19:25.920595Z",
     "iopub.status.idle": "2023-03-27T07:19:25.930755Z",
     "shell.execute_reply": "2023-03-27T07:19:25.929371Z"
    },
    "papermill": {
     "duration": 0.040055,
     "end_time": "2023-03-27T07:19:25.933209",
     "exception": false,
     "start_time": "2023-03-27T07:19:25.893154",
     "status": "completed"
    },
    "tags": []
   },
   "outputs": [
    {
     "data": {
      "text/plain": [
       "Age           0\n",
       "CCAvg         0\n",
       "Experience    0\n",
       "Income        0\n",
       "Mortgage      0\n",
       "dtype: int64"
      ]
     },
     "execution_count": 25,
     "metadata": {},
     "output_type": "execute_result"
    }
   ],
   "source": [
    "X_train_num_imp.isnull().sum()"
   ]
  },
  {
   "cell_type": "code",
   "execution_count": 26,
   "id": "8eb6d950",
   "metadata": {
    "execution": {
     "iopub.execute_input": "2023-03-27T07:19:25.986598Z",
     "iopub.status.busy": "2023-03-27T07:19:25.986159Z",
     "iopub.status.idle": "2023-03-27T07:19:25.995645Z",
     "shell.execute_reply": "2023-03-27T07:19:25.994349Z"
    },
    "papermill": {
     "duration": 0.039417,
     "end_time": "2023-03-27T07:19:25.998161",
     "exception": false,
     "start_time": "2023-03-27T07:19:25.958744",
     "status": "completed"
    },
    "tags": []
   },
   "outputs": [
    {
     "data": {
      "text/plain": [
       "Age           0\n",
       "CCAvg         0\n",
       "Experience    0\n",
       "Income        0\n",
       "Mortgage      0\n",
       "dtype: int64"
      ]
     },
     "execution_count": 26,
     "metadata": {},
     "output_type": "execute_result"
    }
   ],
   "source": [
    "X_test_num_imp.isnull().sum()"
   ]
  },
  {
   "cell_type": "code",
   "execution_count": 27,
   "id": "a87d1bea",
   "metadata": {
    "execution": {
     "iopub.execute_input": "2023-03-27T07:19:26.050466Z",
     "iopub.status.busy": "2023-03-27T07:19:26.049378Z",
     "iopub.status.idle": "2023-03-27T07:19:26.072654Z",
     "shell.execute_reply": "2023-03-27T07:19:26.071256Z"
    },
    "papermill": {
     "duration": 0.052601,
     "end_time": "2023-03-27T07:19:26.075596",
     "exception": false,
     "start_time": "2023-03-27T07:19:26.022995",
     "status": "completed"
    },
    "tags": []
   },
   "outputs": [],
   "source": [
    "imputer_cat = SimpleImputer(strategy='most_frequent')\n",
    "imputer_cat = imputer_cat.fit(X_train[cat_cols])\n",
    "X_train_cat_imp = pd.DataFrame(imputer_cat.transform(X_train[cat_cols]), columns=(X_train[cat_cols]).columns)\n",
    "X_test_cat_imp = pd.DataFrame(imputer_cat.transform(X_test[cat_cols]), columns=(X_test[cat_cols]).columns)"
   ]
  },
  {
   "cell_type": "code",
   "execution_count": 28,
   "id": "796c0d24",
   "metadata": {
    "execution": {
     "iopub.execute_input": "2023-03-27T07:19:26.133583Z",
     "iopub.status.busy": "2023-03-27T07:19:26.132740Z",
     "iopub.status.idle": "2023-03-27T07:19:26.142599Z",
     "shell.execute_reply": "2023-03-27T07:19:26.141355Z"
    },
    "papermill": {
     "duration": 0.044992,
     "end_time": "2023-03-27T07:19:26.145577",
     "exception": false,
     "start_time": "2023-03-27T07:19:26.100585",
     "status": "completed"
    },
    "tags": []
   },
   "outputs": [
    {
     "data": {
      "text/plain": [
       "Education             0\n",
       "Securities Account    0\n",
       "CD Account            0\n",
       "Online                0\n",
       "CreditCard            0\n",
       "dtype: int64"
      ]
     },
     "execution_count": 28,
     "metadata": {},
     "output_type": "execute_result"
    }
   ],
   "source": [
    "X_train_cat_imp.isnull().sum()"
   ]
  },
  {
   "cell_type": "code",
   "execution_count": 29,
   "id": "404c9543",
   "metadata": {
    "execution": {
     "iopub.execute_input": "2023-03-27T07:19:26.200231Z",
     "iopub.status.busy": "2023-03-27T07:19:26.199560Z",
     "iopub.status.idle": "2023-03-27T07:19:26.209343Z",
     "shell.execute_reply": "2023-03-27T07:19:26.208003Z"
    },
    "papermill": {
     "duration": 0.040726,
     "end_time": "2023-03-27T07:19:26.211792",
     "exception": false,
     "start_time": "2023-03-27T07:19:26.171066",
     "status": "completed"
    },
    "tags": []
   },
   "outputs": [
    {
     "data": {
      "text/plain": [
       "Education             0\n",
       "Securities Account    0\n",
       "CD Account            0\n",
       "Online                0\n",
       "CreditCard            0\n",
       "dtype: int64"
      ]
     },
     "execution_count": 29,
     "metadata": {},
     "output_type": "execute_result"
    }
   ],
   "source": [
    "X_test_cat_imp.isnull().sum()"
   ]
  },
  {
   "cell_type": "markdown",
   "id": "044d0e99",
   "metadata": {
    "papermill": {
     "duration": 0.024194,
     "end_time": "2023-03-27T07:19:26.260750",
     "exception": false,
     "start_time": "2023-03-27T07:19:26.236556",
     "status": "completed"
    },
    "tags": []
   },
   "source": [
    "## Standardisation"
   ]
  },
  {
   "cell_type": "code",
   "execution_count": 30,
   "id": "83a8da55",
   "metadata": {
    "execution": {
     "iopub.execute_input": "2023-03-27T07:19:26.312020Z",
     "iopub.status.busy": "2023-03-27T07:19:26.311347Z",
     "iopub.status.idle": "2023-03-27T07:19:26.324947Z",
     "shell.execute_reply": "2023-03-27T07:19:26.323832Z"
    },
    "papermill": {
     "duration": 0.0423,
     "end_time": "2023-03-27T07:19:26.327671",
     "exception": false,
     "start_time": "2023-03-27T07:19:26.285371",
     "status": "completed"
    },
    "tags": []
   },
   "outputs": [],
   "source": [
    "from sklearn.preprocessing import StandardScaler\n",
    "scaler = StandardScaler()\n",
    "scaler = scaler.fit(X_train[num_cols])\n",
    "X_train_num_std = pd.DataFrame(scaler.transform(X_train_num_imp), columns=X_train_num_imp.columns)\n",
    "X_test_num_std = pd.DataFrame(scaler.transform(X_test_num_imp), columns=X_test_num_imp.columns)"
   ]
  },
  {
   "cell_type": "code",
   "execution_count": 31,
   "id": "385282a6",
   "metadata": {
    "execution": {
     "iopub.execute_input": "2023-03-27T07:19:26.381672Z",
     "iopub.status.busy": "2023-03-27T07:19:26.380636Z",
     "iopub.status.idle": "2023-03-27T07:19:26.391759Z",
     "shell.execute_reply": "2023-03-27T07:19:26.390218Z"
    },
    "papermill": {
     "duration": 0.0415,
     "end_time": "2023-03-27T07:19:26.394813",
     "exception": false,
     "start_time": "2023-03-27T07:19:26.353313",
     "status": "completed"
    },
    "tags": []
   },
   "outputs": [
    {
     "data": {
      "text/plain": [
       "Age           0\n",
       "CCAvg         0\n",
       "Experience    0\n",
       "Income        0\n",
       "Mortgage      0\n",
       "dtype: int64"
      ]
     },
     "execution_count": 31,
     "metadata": {},
     "output_type": "execute_result"
    }
   ],
   "source": [
    "X_train_num_std.isnull().sum()"
   ]
  },
  {
   "cell_type": "code",
   "execution_count": 32,
   "id": "06d9e6e2",
   "metadata": {
    "execution": {
     "iopub.execute_input": "2023-03-27T07:19:26.449997Z",
     "iopub.status.busy": "2023-03-27T07:19:26.448978Z",
     "iopub.status.idle": "2023-03-27T07:19:26.458433Z",
     "shell.execute_reply": "2023-03-27T07:19:26.457103Z"
    },
    "papermill": {
     "duration": 0.039465,
     "end_time": "2023-03-27T07:19:26.461167",
     "exception": false,
     "start_time": "2023-03-27T07:19:26.421702",
     "status": "completed"
    },
    "tags": []
   },
   "outputs": [
    {
     "data": {
      "text/plain": [
       "Age           0\n",
       "CCAvg         0\n",
       "Experience    0\n",
       "Income        0\n",
       "Mortgage      0\n",
       "dtype: int64"
      ]
     },
     "execution_count": 32,
     "metadata": {},
     "output_type": "execute_result"
    }
   ],
   "source": [
    "X_test_num_std.isnull().sum()"
   ]
  },
  {
   "cell_type": "markdown",
   "id": "b44b35fc",
   "metadata": {
    "papermill": {
     "duration": 0.024375,
     "end_time": "2023-03-27T07:19:26.510714",
     "exception": false,
     "start_time": "2023-03-27T07:19:26.486339",
     "status": "completed"
    },
    "tags": []
   },
   "source": [
    "## Dummification"
   ]
  },
  {
   "cell_type": "code",
   "execution_count": 33,
   "id": "0531eb26",
   "metadata": {
    "execution": {
     "iopub.execute_input": "2023-03-27T07:19:26.563891Z",
     "iopub.status.busy": "2023-03-27T07:19:26.563424Z",
     "iopub.status.idle": "2023-03-27T07:19:26.574881Z",
     "shell.execute_reply": "2023-03-27T07:19:26.573852Z"
    },
    "papermill": {
     "duration": 0.040511,
     "end_time": "2023-03-27T07:19:26.576997",
     "exception": false,
     "start_time": "2023-03-27T07:19:26.536486",
     "status": "completed"
    },
    "tags": []
   },
   "outputs": [],
   "source": [
    "X_train_cat_dum = pd.get_dummies((X_train_cat_imp),drop_first=True)\n",
    "X_test_cat_dum = pd.get_dummies((X_test_cat_imp),drop_first=True)"
   ]
  },
  {
   "cell_type": "code",
   "execution_count": 34,
   "id": "c3fa6c4f",
   "metadata": {
    "execution": {
     "iopub.execute_input": "2023-03-27T07:19:26.630023Z",
     "iopub.status.busy": "2023-03-27T07:19:26.629187Z",
     "iopub.status.idle": "2023-03-27T07:19:26.647805Z",
     "shell.execute_reply": "2023-03-27T07:19:26.646620Z"
    },
    "papermill": {
     "duration": 0.048081,
     "end_time": "2023-03-27T07:19:26.650134",
     "exception": false,
     "start_time": "2023-03-27T07:19:26.602053",
     "status": "completed"
    },
    "tags": []
   },
   "outputs": [
    {
     "data": {
      "text/html": [
       "<div>\n",
       "<style scoped>\n",
       "    .dataframe tbody tr th:only-of-type {\n",
       "        vertical-align: middle;\n",
       "    }\n",
       "\n",
       "    .dataframe tbody tr th {\n",
       "        vertical-align: top;\n",
       "    }\n",
       "\n",
       "    .dataframe thead th {\n",
       "        text-align: right;\n",
       "    }\n",
       "</style>\n",
       "<table border=\"1\" class=\"dataframe\">\n",
       "  <thead>\n",
       "    <tr style=\"text-align: right;\">\n",
       "      <th></th>\n",
       "      <th>Education</th>\n",
       "      <th>Securities Account</th>\n",
       "      <th>CD Account</th>\n",
       "      <th>Online</th>\n",
       "      <th>CreditCard</th>\n",
       "    </tr>\n",
       "  </thead>\n",
       "  <tbody>\n",
       "    <tr>\n",
       "      <th>0</th>\n",
       "      <td>3.0</td>\n",
       "      <td>0.0</td>\n",
       "      <td>0.0</td>\n",
       "      <td>0.0</td>\n",
       "      <td>0.0</td>\n",
       "    </tr>\n",
       "    <tr>\n",
       "      <th>1</th>\n",
       "      <td>1.0</td>\n",
       "      <td>0.0</td>\n",
       "      <td>0.0</td>\n",
       "      <td>1.0</td>\n",
       "      <td>1.0</td>\n",
       "    </tr>\n",
       "    <tr>\n",
       "      <th>2</th>\n",
       "      <td>2.0</td>\n",
       "      <td>0.0</td>\n",
       "      <td>0.0</td>\n",
       "      <td>0.0</td>\n",
       "      <td>0.0</td>\n",
       "    </tr>\n",
       "    <tr>\n",
       "      <th>3</th>\n",
       "      <td>3.0</td>\n",
       "      <td>1.0</td>\n",
       "      <td>0.0</td>\n",
       "      <td>0.0</td>\n",
       "      <td>0.0</td>\n",
       "    </tr>\n",
       "    <tr>\n",
       "      <th>4</th>\n",
       "      <td>2.0</td>\n",
       "      <td>0.0</td>\n",
       "      <td>1.0</td>\n",
       "      <td>1.0</td>\n",
       "      <td>1.0</td>\n",
       "    </tr>\n",
       "    <tr>\n",
       "      <th>...</th>\n",
       "      <td>...</td>\n",
       "      <td>...</td>\n",
       "      <td>...</td>\n",
       "      <td>...</td>\n",
       "      <td>...</td>\n",
       "    </tr>\n",
       "    <tr>\n",
       "      <th>3495</th>\n",
       "      <td>1.0</td>\n",
       "      <td>0.0</td>\n",
       "      <td>0.0</td>\n",
       "      <td>1.0</td>\n",
       "      <td>0.0</td>\n",
       "    </tr>\n",
       "    <tr>\n",
       "      <th>3496</th>\n",
       "      <td>2.0</td>\n",
       "      <td>0.0</td>\n",
       "      <td>0.0</td>\n",
       "      <td>0.0</td>\n",
       "      <td>0.0</td>\n",
       "    </tr>\n",
       "    <tr>\n",
       "      <th>3497</th>\n",
       "      <td>2.0</td>\n",
       "      <td>0.0</td>\n",
       "      <td>1.0</td>\n",
       "      <td>1.0</td>\n",
       "      <td>0.0</td>\n",
       "    </tr>\n",
       "    <tr>\n",
       "      <th>3498</th>\n",
       "      <td>2.0</td>\n",
       "      <td>0.0</td>\n",
       "      <td>0.0</td>\n",
       "      <td>0.0</td>\n",
       "      <td>0.0</td>\n",
       "    </tr>\n",
       "    <tr>\n",
       "      <th>3499</th>\n",
       "      <td>2.0</td>\n",
       "      <td>0.0</td>\n",
       "      <td>0.0</td>\n",
       "      <td>0.0</td>\n",
       "      <td>0.0</td>\n",
       "    </tr>\n",
       "  </tbody>\n",
       "</table>\n",
       "<p>3500 rows × 5 columns</p>\n",
       "</div>"
      ],
      "text/plain": [
       "      Education  Securities Account  CD Account  Online  CreditCard\n",
       "0           3.0                 0.0         0.0     0.0         0.0\n",
       "1           1.0                 0.0         0.0     1.0         1.0\n",
       "2           2.0                 0.0         0.0     0.0         0.0\n",
       "3           3.0                 1.0         0.0     0.0         0.0\n",
       "4           2.0                 0.0         1.0     1.0         1.0\n",
       "...         ...                 ...         ...     ...         ...\n",
       "3495        1.0                 0.0         0.0     1.0         0.0\n",
       "3496        2.0                 0.0         0.0     0.0         0.0\n",
       "3497        2.0                 0.0         1.0     1.0         0.0\n",
       "3498        2.0                 0.0         0.0     0.0         0.0\n",
       "3499        2.0                 0.0         0.0     0.0         0.0\n",
       "\n",
       "[3500 rows x 5 columns]"
      ]
     },
     "execution_count": 34,
     "metadata": {},
     "output_type": "execute_result"
    }
   ],
   "source": [
    "X_train_cat_dum"
   ]
  },
  {
   "cell_type": "code",
   "execution_count": 35,
   "id": "da77d9b8",
   "metadata": {
    "execution": {
     "iopub.execute_input": "2023-03-27T07:19:26.705476Z",
     "iopub.status.busy": "2023-03-27T07:19:26.704724Z",
     "iopub.status.idle": "2023-03-27T07:19:26.722491Z",
     "shell.execute_reply": "2023-03-27T07:19:26.721516Z"
    },
    "papermill": {
     "duration": 0.049174,
     "end_time": "2023-03-27T07:19:26.725354",
     "exception": false,
     "start_time": "2023-03-27T07:19:26.676180",
     "status": "completed"
    },
    "tags": []
   },
   "outputs": [
    {
     "data": {
      "text/html": [
       "<div>\n",
       "<style scoped>\n",
       "    .dataframe tbody tr th:only-of-type {\n",
       "        vertical-align: middle;\n",
       "    }\n",
       "\n",
       "    .dataframe tbody tr th {\n",
       "        vertical-align: top;\n",
       "    }\n",
       "\n",
       "    .dataframe thead th {\n",
       "        text-align: right;\n",
       "    }\n",
       "</style>\n",
       "<table border=\"1\" class=\"dataframe\">\n",
       "  <thead>\n",
       "    <tr style=\"text-align: right;\">\n",
       "      <th></th>\n",
       "      <th>Education</th>\n",
       "      <th>Securities Account</th>\n",
       "      <th>CD Account</th>\n",
       "      <th>Online</th>\n",
       "      <th>CreditCard</th>\n",
       "    </tr>\n",
       "  </thead>\n",
       "  <tbody>\n",
       "    <tr>\n",
       "      <th>0</th>\n",
       "      <td>3.0</td>\n",
       "      <td>0.0</td>\n",
       "      <td>0.0</td>\n",
       "      <td>0.0</td>\n",
       "      <td>0.0</td>\n",
       "    </tr>\n",
       "    <tr>\n",
       "      <th>1</th>\n",
       "      <td>2.0</td>\n",
       "      <td>0.0</td>\n",
       "      <td>0.0</td>\n",
       "      <td>0.0</td>\n",
       "      <td>1.0</td>\n",
       "    </tr>\n",
       "    <tr>\n",
       "      <th>2</th>\n",
       "      <td>3.0</td>\n",
       "      <td>0.0</td>\n",
       "      <td>0.0</td>\n",
       "      <td>0.0</td>\n",
       "      <td>0.0</td>\n",
       "    </tr>\n",
       "    <tr>\n",
       "      <th>3</th>\n",
       "      <td>1.0</td>\n",
       "      <td>0.0</td>\n",
       "      <td>0.0</td>\n",
       "      <td>0.0</td>\n",
       "      <td>0.0</td>\n",
       "    </tr>\n",
       "    <tr>\n",
       "      <th>4</th>\n",
       "      <td>1.0</td>\n",
       "      <td>1.0</td>\n",
       "      <td>0.0</td>\n",
       "      <td>0.0</td>\n",
       "      <td>0.0</td>\n",
       "    </tr>\n",
       "    <tr>\n",
       "      <th>...</th>\n",
       "      <td>...</td>\n",
       "      <td>...</td>\n",
       "      <td>...</td>\n",
       "      <td>...</td>\n",
       "      <td>...</td>\n",
       "    </tr>\n",
       "    <tr>\n",
       "      <th>1495</th>\n",
       "      <td>2.0</td>\n",
       "      <td>0.0</td>\n",
       "      <td>0.0</td>\n",
       "      <td>0.0</td>\n",
       "      <td>0.0</td>\n",
       "    </tr>\n",
       "    <tr>\n",
       "      <th>1496</th>\n",
       "      <td>3.0</td>\n",
       "      <td>0.0</td>\n",
       "      <td>0.0</td>\n",
       "      <td>1.0</td>\n",
       "      <td>0.0</td>\n",
       "    </tr>\n",
       "    <tr>\n",
       "      <th>1497</th>\n",
       "      <td>2.0</td>\n",
       "      <td>1.0</td>\n",
       "      <td>1.0</td>\n",
       "      <td>1.0</td>\n",
       "      <td>1.0</td>\n",
       "    </tr>\n",
       "    <tr>\n",
       "      <th>1498</th>\n",
       "      <td>1.0</td>\n",
       "      <td>0.0</td>\n",
       "      <td>0.0</td>\n",
       "      <td>1.0</td>\n",
       "      <td>0.0</td>\n",
       "    </tr>\n",
       "    <tr>\n",
       "      <th>1499</th>\n",
       "      <td>1.0</td>\n",
       "      <td>0.0</td>\n",
       "      <td>0.0</td>\n",
       "      <td>1.0</td>\n",
       "      <td>0.0</td>\n",
       "    </tr>\n",
       "  </tbody>\n",
       "</table>\n",
       "<p>1500 rows × 5 columns</p>\n",
       "</div>"
      ],
      "text/plain": [
       "      Education  Securities Account  CD Account  Online  CreditCard\n",
       "0           3.0                 0.0         0.0     0.0         0.0\n",
       "1           2.0                 0.0         0.0     0.0         1.0\n",
       "2           3.0                 0.0         0.0     0.0         0.0\n",
       "3           1.0                 0.0         0.0     0.0         0.0\n",
       "4           1.0                 1.0         0.0     0.0         0.0\n",
       "...         ...                 ...         ...     ...         ...\n",
       "1495        2.0                 0.0         0.0     0.0         0.0\n",
       "1496        3.0                 0.0         0.0     1.0         0.0\n",
       "1497        2.0                 1.0         1.0     1.0         1.0\n",
       "1498        1.0                 0.0         0.0     1.0         0.0\n",
       "1499        1.0                 0.0         0.0     1.0         0.0\n",
       "\n",
       "[1500 rows x 5 columns]"
      ]
     },
     "execution_count": 35,
     "metadata": {},
     "output_type": "execute_result"
    }
   ],
   "source": [
    "X_test_cat_dum"
   ]
  },
  {
   "cell_type": "code",
   "execution_count": 36,
   "id": "91cb1357",
   "metadata": {
    "execution": {
     "iopub.execute_input": "2023-03-27T07:19:26.781030Z",
     "iopub.status.busy": "2023-03-27T07:19:26.780342Z",
     "iopub.status.idle": "2023-03-27T07:19:26.796994Z",
     "shell.execute_reply": "2023-03-27T07:19:26.795813Z"
    },
    "papermill": {
     "duration": 0.047637,
     "end_time": "2023-03-27T07:19:26.799602",
     "exception": false,
     "start_time": "2023-03-27T07:19:26.751965",
     "status": "completed"
    },
    "tags": []
   },
   "outputs": [
    {
     "data": {
      "text/html": [
       "<div>\n",
       "<style scoped>\n",
       "    .dataframe tbody tr th:only-of-type {\n",
       "        vertical-align: middle;\n",
       "    }\n",
       "\n",
       "    .dataframe tbody tr th {\n",
       "        vertical-align: top;\n",
       "    }\n",
       "\n",
       "    .dataframe thead th {\n",
       "        text-align: right;\n",
       "    }\n",
       "</style>\n",
       "<table border=\"1\" class=\"dataframe\">\n",
       "  <thead>\n",
       "    <tr style=\"text-align: right;\">\n",
       "      <th></th>\n",
       "      <th>index</th>\n",
       "      <th>Age</th>\n",
       "      <th>CCAvg</th>\n",
       "      <th>Experience</th>\n",
       "      <th>Income</th>\n",
       "      <th>Mortgage</th>\n",
       "    </tr>\n",
       "  </thead>\n",
       "  <tbody>\n",
       "    <tr>\n",
       "      <th>0</th>\n",
       "      <td>0</td>\n",
       "      <td>-0.365348</td>\n",
       "      <td>-0.823094</td>\n",
       "      <td>-0.433181</td>\n",
       "      <td>-0.184525</td>\n",
       "      <td>-0.547282</td>\n",
       "    </tr>\n",
       "    <tr>\n",
       "      <th>1</th>\n",
       "      <td>1</td>\n",
       "      <td>0.949574</td>\n",
       "      <td>-0.936589</td>\n",
       "      <td>1.057179</td>\n",
       "      <td>0.356759</td>\n",
       "      <td>-0.547282</td>\n",
       "    </tr>\n",
       "    <tr>\n",
       "      <th>2</th>\n",
       "      <td>2</td>\n",
       "      <td>-0.190025</td>\n",
       "      <td>0.879329</td>\n",
       "      <td>-0.257845</td>\n",
       "      <td>1.114557</td>\n",
       "      <td>-0.547282</td>\n",
       "    </tr>\n",
       "    <tr>\n",
       "      <th>3</th>\n",
       "      <td>3</td>\n",
       "      <td>1.212558</td>\n",
       "      <td>0.198360</td>\n",
       "      <td>1.320184</td>\n",
       "      <td>0.031988</td>\n",
       "      <td>-0.547282</td>\n",
       "    </tr>\n",
       "    <tr>\n",
       "      <th>4</th>\n",
       "      <td>4</td>\n",
       "      <td>-1.592608</td>\n",
       "      <td>-0.085377</td>\n",
       "      <td>-1.660537</td>\n",
       "      <td>-0.336085</td>\n",
       "      <td>0.958665</td>\n",
       "    </tr>\n",
       "    <tr>\n",
       "      <th>...</th>\n",
       "      <td>...</td>\n",
       "      <td>...</td>\n",
       "      <td>...</td>\n",
       "      <td>...</td>\n",
       "      <td>...</td>\n",
       "      <td>...</td>\n",
       "    </tr>\n",
       "    <tr>\n",
       "      <th>3495</th>\n",
       "      <td>3495</td>\n",
       "      <td>-0.978978</td>\n",
       "      <td>0.595592</td>\n",
       "      <td>-0.959191</td>\n",
       "      <td>2.695106</td>\n",
       "      <td>3.579405</td>\n",
       "    </tr>\n",
       "    <tr>\n",
       "      <th>3496</th>\n",
       "      <td>3496</td>\n",
       "      <td>0.774251</td>\n",
       "      <td>-0.085377</td>\n",
       "      <td>0.881842</td>\n",
       "      <td>0.096942</td>\n",
       "      <td>-0.547282</td>\n",
       "    </tr>\n",
       "    <tr>\n",
       "      <th>3497</th>\n",
       "      <td>3497</td>\n",
       "      <td>0.248282</td>\n",
       "      <td>0.765834</td>\n",
       "      <td>0.355833</td>\n",
       "      <td>1.915657</td>\n",
       "      <td>3.814098</td>\n",
       "    </tr>\n",
       "    <tr>\n",
       "      <th>3498</th>\n",
       "      <td>3498</td>\n",
       "      <td>0.248282</td>\n",
       "      <td>0.482097</td>\n",
       "      <td>0.268165</td>\n",
       "      <td>-0.076268</td>\n",
       "      <td>-0.547282</td>\n",
       "    </tr>\n",
       "    <tr>\n",
       "      <th>3499</th>\n",
       "      <td>3499</td>\n",
       "      <td>-1.066639</td>\n",
       "      <td>0.141612</td>\n",
       "      <td>-1.134527</td>\n",
       "      <td>-0.552599</td>\n",
       "      <td>1.476946</td>\n",
       "    </tr>\n",
       "  </tbody>\n",
       "</table>\n",
       "<p>3500 rows × 6 columns</p>\n",
       "</div>"
      ],
      "text/plain": [
       "      index       Age     CCAvg  Experience    Income  Mortgage\n",
       "0         0 -0.365348 -0.823094   -0.433181 -0.184525 -0.547282\n",
       "1         1  0.949574 -0.936589    1.057179  0.356759 -0.547282\n",
       "2         2 -0.190025  0.879329   -0.257845  1.114557 -0.547282\n",
       "3         3  1.212558  0.198360    1.320184  0.031988 -0.547282\n",
       "4         4 -1.592608 -0.085377   -1.660537 -0.336085  0.958665\n",
       "...     ...       ...       ...         ...       ...       ...\n",
       "3495   3495 -0.978978  0.595592   -0.959191  2.695106  3.579405\n",
       "3496   3496  0.774251 -0.085377    0.881842  0.096942 -0.547282\n",
       "3497   3497  0.248282  0.765834    0.355833  1.915657  3.814098\n",
       "3498   3498  0.248282  0.482097    0.268165 -0.076268 -0.547282\n",
       "3499   3499 -1.066639  0.141612   -1.134527 -0.552599  1.476946\n",
       "\n",
       "[3500 rows x 6 columns]"
      ]
     },
     "execution_count": 36,
     "metadata": {},
     "output_type": "execute_result"
    }
   ],
   "source": [
    "X_train_num_std = X_train_num_std.reset_index()\n",
    "X_train_num_std"
   ]
  },
  {
   "cell_type": "code",
   "execution_count": 37,
   "id": "5b4161f9",
   "metadata": {
    "execution": {
     "iopub.execute_input": "2023-03-27T07:19:26.855642Z",
     "iopub.status.busy": "2023-03-27T07:19:26.854476Z",
     "iopub.status.idle": "2023-03-27T07:19:26.861247Z",
     "shell.execute_reply": "2023-03-27T07:19:26.860213Z"
    },
    "papermill": {
     "duration": 0.037305,
     "end_time": "2023-03-27T07:19:26.863882",
     "exception": false,
     "start_time": "2023-03-27T07:19:26.826577",
     "status": "completed"
    },
    "tags": []
   },
   "outputs": [],
   "source": [
    "X_train_num_std = X_train_num_std.drop([\"index\"], axis=1)"
   ]
  },
  {
   "cell_type": "code",
   "execution_count": 38,
   "id": "378f746d",
   "metadata": {
    "execution": {
     "iopub.execute_input": "2023-03-27T07:19:26.917163Z",
     "iopub.status.busy": "2023-03-27T07:19:26.916730Z",
     "iopub.status.idle": "2023-03-27T07:19:26.933192Z",
     "shell.execute_reply": "2023-03-27T07:19:26.931775Z"
    },
    "papermill": {
     "duration": 0.046547,
     "end_time": "2023-03-27T07:19:26.935934",
     "exception": false,
     "start_time": "2023-03-27T07:19:26.889387",
     "status": "completed"
    },
    "tags": []
   },
   "outputs": [
    {
     "data": {
      "text/html": [
       "<div>\n",
       "<style scoped>\n",
       "    .dataframe tbody tr th:only-of-type {\n",
       "        vertical-align: middle;\n",
       "    }\n",
       "\n",
       "    .dataframe tbody tr th {\n",
       "        vertical-align: top;\n",
       "    }\n",
       "\n",
       "    .dataframe thead th {\n",
       "        text-align: right;\n",
       "    }\n",
       "</style>\n",
       "<table border=\"1\" class=\"dataframe\">\n",
       "  <thead>\n",
       "    <tr style=\"text-align: right;\">\n",
       "      <th></th>\n",
       "      <th>Age</th>\n",
       "      <th>CCAvg</th>\n",
       "      <th>Experience</th>\n",
       "      <th>Income</th>\n",
       "      <th>Mortgage</th>\n",
       "    </tr>\n",
       "  </thead>\n",
       "  <tbody>\n",
       "    <tr>\n",
       "      <th>0</th>\n",
       "      <td>-0.365348</td>\n",
       "      <td>-0.823094</td>\n",
       "      <td>-0.433181</td>\n",
       "      <td>-0.184525</td>\n",
       "      <td>-0.547282</td>\n",
       "    </tr>\n",
       "    <tr>\n",
       "      <th>1</th>\n",
       "      <td>0.949574</td>\n",
       "      <td>-0.936589</td>\n",
       "      <td>1.057179</td>\n",
       "      <td>0.356759</td>\n",
       "      <td>-0.547282</td>\n",
       "    </tr>\n",
       "    <tr>\n",
       "      <th>2</th>\n",
       "      <td>-0.190025</td>\n",
       "      <td>0.879329</td>\n",
       "      <td>-0.257845</td>\n",
       "      <td>1.114557</td>\n",
       "      <td>-0.547282</td>\n",
       "    </tr>\n",
       "    <tr>\n",
       "      <th>3</th>\n",
       "      <td>1.212558</td>\n",
       "      <td>0.198360</td>\n",
       "      <td>1.320184</td>\n",
       "      <td>0.031988</td>\n",
       "      <td>-0.547282</td>\n",
       "    </tr>\n",
       "    <tr>\n",
       "      <th>4</th>\n",
       "      <td>-1.592608</td>\n",
       "      <td>-0.085377</td>\n",
       "      <td>-1.660537</td>\n",
       "      <td>-0.336085</td>\n",
       "      <td>0.958665</td>\n",
       "    </tr>\n",
       "    <tr>\n",
       "      <th>...</th>\n",
       "      <td>...</td>\n",
       "      <td>...</td>\n",
       "      <td>...</td>\n",
       "      <td>...</td>\n",
       "      <td>...</td>\n",
       "    </tr>\n",
       "    <tr>\n",
       "      <th>3495</th>\n",
       "      <td>-0.978978</td>\n",
       "      <td>0.595592</td>\n",
       "      <td>-0.959191</td>\n",
       "      <td>2.695106</td>\n",
       "      <td>3.579405</td>\n",
       "    </tr>\n",
       "    <tr>\n",
       "      <th>3496</th>\n",
       "      <td>0.774251</td>\n",
       "      <td>-0.085377</td>\n",
       "      <td>0.881842</td>\n",
       "      <td>0.096942</td>\n",
       "      <td>-0.547282</td>\n",
       "    </tr>\n",
       "    <tr>\n",
       "      <th>3497</th>\n",
       "      <td>0.248282</td>\n",
       "      <td>0.765834</td>\n",
       "      <td>0.355833</td>\n",
       "      <td>1.915657</td>\n",
       "      <td>3.814098</td>\n",
       "    </tr>\n",
       "    <tr>\n",
       "      <th>3498</th>\n",
       "      <td>0.248282</td>\n",
       "      <td>0.482097</td>\n",
       "      <td>0.268165</td>\n",
       "      <td>-0.076268</td>\n",
       "      <td>-0.547282</td>\n",
       "    </tr>\n",
       "    <tr>\n",
       "      <th>3499</th>\n",
       "      <td>-1.066639</td>\n",
       "      <td>0.141612</td>\n",
       "      <td>-1.134527</td>\n",
       "      <td>-0.552599</td>\n",
       "      <td>1.476946</td>\n",
       "    </tr>\n",
       "  </tbody>\n",
       "</table>\n",
       "<p>3500 rows × 5 columns</p>\n",
       "</div>"
      ],
      "text/plain": [
       "           Age     CCAvg  Experience    Income  Mortgage\n",
       "0    -0.365348 -0.823094   -0.433181 -0.184525 -0.547282\n",
       "1     0.949574 -0.936589    1.057179  0.356759 -0.547282\n",
       "2    -0.190025  0.879329   -0.257845  1.114557 -0.547282\n",
       "3     1.212558  0.198360    1.320184  0.031988 -0.547282\n",
       "4    -1.592608 -0.085377   -1.660537 -0.336085  0.958665\n",
       "...        ...       ...         ...       ...       ...\n",
       "3495 -0.978978  0.595592   -0.959191  2.695106  3.579405\n",
       "3496  0.774251 -0.085377    0.881842  0.096942 -0.547282\n",
       "3497  0.248282  0.765834    0.355833  1.915657  3.814098\n",
       "3498  0.248282  0.482097    0.268165 -0.076268 -0.547282\n",
       "3499 -1.066639  0.141612   -1.134527 -0.552599  1.476946\n",
       "\n",
       "[3500 rows x 5 columns]"
      ]
     },
     "execution_count": 38,
     "metadata": {},
     "output_type": "execute_result"
    }
   ],
   "source": [
    "X_train_num_std"
   ]
  },
  {
   "cell_type": "code",
   "execution_count": 39,
   "id": "aa216e0b",
   "metadata": {
    "execution": {
     "iopub.execute_input": "2023-03-27T07:19:26.989928Z",
     "iopub.status.busy": "2023-03-27T07:19:26.989534Z",
     "iopub.status.idle": "2023-03-27T07:19:27.010257Z",
     "shell.execute_reply": "2023-03-27T07:19:27.009310Z"
    },
    "papermill": {
     "duration": 0.050631,
     "end_time": "2023-03-27T07:19:27.012569",
     "exception": false,
     "start_time": "2023-03-27T07:19:26.961938",
     "status": "completed"
    },
    "tags": []
   },
   "outputs": [
    {
     "data": {
      "text/html": [
       "<div>\n",
       "<style scoped>\n",
       "    .dataframe tbody tr th:only-of-type {\n",
       "        vertical-align: middle;\n",
       "    }\n",
       "\n",
       "    .dataframe tbody tr th {\n",
       "        vertical-align: top;\n",
       "    }\n",
       "\n",
       "    .dataframe thead th {\n",
       "        text-align: right;\n",
       "    }\n",
       "</style>\n",
       "<table border=\"1\" class=\"dataframe\">\n",
       "  <thead>\n",
       "    <tr style=\"text-align: right;\">\n",
       "      <th></th>\n",
       "      <th>index</th>\n",
       "      <th>Education</th>\n",
       "      <th>Securities Account</th>\n",
       "      <th>CD Account</th>\n",
       "      <th>Online</th>\n",
       "      <th>CreditCard</th>\n",
       "    </tr>\n",
       "  </thead>\n",
       "  <tbody>\n",
       "    <tr>\n",
       "      <th>0</th>\n",
       "      <td>0</td>\n",
       "      <td>3.0</td>\n",
       "      <td>0.0</td>\n",
       "      <td>0.0</td>\n",
       "      <td>0.0</td>\n",
       "      <td>0.0</td>\n",
       "    </tr>\n",
       "    <tr>\n",
       "      <th>1</th>\n",
       "      <td>1</td>\n",
       "      <td>1.0</td>\n",
       "      <td>0.0</td>\n",
       "      <td>0.0</td>\n",
       "      <td>1.0</td>\n",
       "      <td>1.0</td>\n",
       "    </tr>\n",
       "    <tr>\n",
       "      <th>2</th>\n",
       "      <td>2</td>\n",
       "      <td>2.0</td>\n",
       "      <td>0.0</td>\n",
       "      <td>0.0</td>\n",
       "      <td>0.0</td>\n",
       "      <td>0.0</td>\n",
       "    </tr>\n",
       "    <tr>\n",
       "      <th>3</th>\n",
       "      <td>3</td>\n",
       "      <td>3.0</td>\n",
       "      <td>1.0</td>\n",
       "      <td>0.0</td>\n",
       "      <td>0.0</td>\n",
       "      <td>0.0</td>\n",
       "    </tr>\n",
       "    <tr>\n",
       "      <th>4</th>\n",
       "      <td>4</td>\n",
       "      <td>2.0</td>\n",
       "      <td>0.0</td>\n",
       "      <td>1.0</td>\n",
       "      <td>1.0</td>\n",
       "      <td>1.0</td>\n",
       "    </tr>\n",
       "    <tr>\n",
       "      <th>...</th>\n",
       "      <td>...</td>\n",
       "      <td>...</td>\n",
       "      <td>...</td>\n",
       "      <td>...</td>\n",
       "      <td>...</td>\n",
       "      <td>...</td>\n",
       "    </tr>\n",
       "    <tr>\n",
       "      <th>3495</th>\n",
       "      <td>3495</td>\n",
       "      <td>1.0</td>\n",
       "      <td>0.0</td>\n",
       "      <td>0.0</td>\n",
       "      <td>1.0</td>\n",
       "      <td>0.0</td>\n",
       "    </tr>\n",
       "    <tr>\n",
       "      <th>3496</th>\n",
       "      <td>3496</td>\n",
       "      <td>2.0</td>\n",
       "      <td>0.0</td>\n",
       "      <td>0.0</td>\n",
       "      <td>0.0</td>\n",
       "      <td>0.0</td>\n",
       "    </tr>\n",
       "    <tr>\n",
       "      <th>3497</th>\n",
       "      <td>3497</td>\n",
       "      <td>2.0</td>\n",
       "      <td>0.0</td>\n",
       "      <td>1.0</td>\n",
       "      <td>1.0</td>\n",
       "      <td>0.0</td>\n",
       "    </tr>\n",
       "    <tr>\n",
       "      <th>3498</th>\n",
       "      <td>3498</td>\n",
       "      <td>2.0</td>\n",
       "      <td>0.0</td>\n",
       "      <td>0.0</td>\n",
       "      <td>0.0</td>\n",
       "      <td>0.0</td>\n",
       "    </tr>\n",
       "    <tr>\n",
       "      <th>3499</th>\n",
       "      <td>3499</td>\n",
       "      <td>2.0</td>\n",
       "      <td>0.0</td>\n",
       "      <td>0.0</td>\n",
       "      <td>0.0</td>\n",
       "      <td>0.0</td>\n",
       "    </tr>\n",
       "  </tbody>\n",
       "</table>\n",
       "<p>3500 rows × 6 columns</p>\n",
       "</div>"
      ],
      "text/plain": [
       "      index  Education  Securities Account  CD Account  Online  CreditCard\n",
       "0         0        3.0                 0.0         0.0     0.0         0.0\n",
       "1         1        1.0                 0.0         0.0     1.0         1.0\n",
       "2         2        2.0                 0.0         0.0     0.0         0.0\n",
       "3         3        3.0                 1.0         0.0     0.0         0.0\n",
       "4         4        2.0                 0.0         1.0     1.0         1.0\n",
       "...     ...        ...                 ...         ...     ...         ...\n",
       "3495   3495        1.0                 0.0         0.0     1.0         0.0\n",
       "3496   3496        2.0                 0.0         0.0     0.0         0.0\n",
       "3497   3497        2.0                 0.0         1.0     1.0         0.0\n",
       "3498   3498        2.0                 0.0         0.0     0.0         0.0\n",
       "3499   3499        2.0                 0.0         0.0     0.0         0.0\n",
       "\n",
       "[3500 rows x 6 columns]"
      ]
     },
     "execution_count": 39,
     "metadata": {},
     "output_type": "execute_result"
    }
   ],
   "source": [
    "X_train_cat_dum = X_train_cat_dum.reset_index()\n",
    "X_train_cat_dum"
   ]
  },
  {
   "cell_type": "code",
   "execution_count": 40,
   "id": "ea33dfc5",
   "metadata": {
    "execution": {
     "iopub.execute_input": "2023-03-27T07:19:27.067568Z",
     "iopub.status.busy": "2023-03-27T07:19:27.066870Z",
     "iopub.status.idle": "2023-03-27T07:19:27.072283Z",
     "shell.execute_reply": "2023-03-27T07:19:27.071362Z"
    },
    "papermill": {
     "duration": 0.035715,
     "end_time": "2023-03-27T07:19:27.074690",
     "exception": false,
     "start_time": "2023-03-27T07:19:27.038975",
     "status": "completed"
    },
    "tags": []
   },
   "outputs": [],
   "source": [
    "X_train_cat_dum = X_train_cat_dum.drop([\"index\"], axis=1)"
   ]
  },
  {
   "cell_type": "code",
   "execution_count": 41,
   "id": "c06fc46d",
   "metadata": {
    "execution": {
     "iopub.execute_input": "2023-03-27T07:19:27.135645Z",
     "iopub.status.busy": "2023-03-27T07:19:27.134737Z",
     "iopub.status.idle": "2023-03-27T07:19:27.158814Z",
     "shell.execute_reply": "2023-03-27T07:19:27.157794Z"
    },
    "papermill": {
     "duration": 0.059182,
     "end_time": "2023-03-27T07:19:27.161124",
     "exception": false,
     "start_time": "2023-03-27T07:19:27.101942",
     "status": "completed"
    },
    "tags": []
   },
   "outputs": [
    {
     "data": {
      "text/html": [
       "<div>\n",
       "<style scoped>\n",
       "    .dataframe tbody tr th:only-of-type {\n",
       "        vertical-align: middle;\n",
       "    }\n",
       "\n",
       "    .dataframe tbody tr th {\n",
       "        vertical-align: top;\n",
       "    }\n",
       "\n",
       "    .dataframe thead th {\n",
       "        text-align: right;\n",
       "    }\n",
       "</style>\n",
       "<table border=\"1\" class=\"dataframe\">\n",
       "  <thead>\n",
       "    <tr style=\"text-align: right;\">\n",
       "      <th></th>\n",
       "      <th>Education</th>\n",
       "      <th>Securities Account</th>\n",
       "      <th>CD Account</th>\n",
       "      <th>Online</th>\n",
       "      <th>CreditCard</th>\n",
       "    </tr>\n",
       "  </thead>\n",
       "  <tbody>\n",
       "    <tr>\n",
       "      <th>0</th>\n",
       "      <td>3.0</td>\n",
       "      <td>0.0</td>\n",
       "      <td>0.0</td>\n",
       "      <td>0.0</td>\n",
       "      <td>0.0</td>\n",
       "    </tr>\n",
       "    <tr>\n",
       "      <th>1</th>\n",
       "      <td>1.0</td>\n",
       "      <td>0.0</td>\n",
       "      <td>0.0</td>\n",
       "      <td>1.0</td>\n",
       "      <td>1.0</td>\n",
       "    </tr>\n",
       "    <tr>\n",
       "      <th>2</th>\n",
       "      <td>2.0</td>\n",
       "      <td>0.0</td>\n",
       "      <td>0.0</td>\n",
       "      <td>0.0</td>\n",
       "      <td>0.0</td>\n",
       "    </tr>\n",
       "    <tr>\n",
       "      <th>3</th>\n",
       "      <td>3.0</td>\n",
       "      <td>1.0</td>\n",
       "      <td>0.0</td>\n",
       "      <td>0.0</td>\n",
       "      <td>0.0</td>\n",
       "    </tr>\n",
       "    <tr>\n",
       "      <th>4</th>\n",
       "      <td>2.0</td>\n",
       "      <td>0.0</td>\n",
       "      <td>1.0</td>\n",
       "      <td>1.0</td>\n",
       "      <td>1.0</td>\n",
       "    </tr>\n",
       "    <tr>\n",
       "      <th>...</th>\n",
       "      <td>...</td>\n",
       "      <td>...</td>\n",
       "      <td>...</td>\n",
       "      <td>...</td>\n",
       "      <td>...</td>\n",
       "    </tr>\n",
       "    <tr>\n",
       "      <th>3495</th>\n",
       "      <td>1.0</td>\n",
       "      <td>0.0</td>\n",
       "      <td>0.0</td>\n",
       "      <td>1.0</td>\n",
       "      <td>0.0</td>\n",
       "    </tr>\n",
       "    <tr>\n",
       "      <th>3496</th>\n",
       "      <td>2.0</td>\n",
       "      <td>0.0</td>\n",
       "      <td>0.0</td>\n",
       "      <td>0.0</td>\n",
       "      <td>0.0</td>\n",
       "    </tr>\n",
       "    <tr>\n",
       "      <th>3497</th>\n",
       "      <td>2.0</td>\n",
       "      <td>0.0</td>\n",
       "      <td>1.0</td>\n",
       "      <td>1.0</td>\n",
       "      <td>0.0</td>\n",
       "    </tr>\n",
       "    <tr>\n",
       "      <th>3498</th>\n",
       "      <td>2.0</td>\n",
       "      <td>0.0</td>\n",
       "      <td>0.0</td>\n",
       "      <td>0.0</td>\n",
       "      <td>0.0</td>\n",
       "    </tr>\n",
       "    <tr>\n",
       "      <th>3499</th>\n",
       "      <td>2.0</td>\n",
       "      <td>0.0</td>\n",
       "      <td>0.0</td>\n",
       "      <td>0.0</td>\n",
       "      <td>0.0</td>\n",
       "    </tr>\n",
       "  </tbody>\n",
       "</table>\n",
       "<p>3500 rows × 5 columns</p>\n",
       "</div>"
      ],
      "text/plain": [
       "      Education  Securities Account  CD Account  Online  CreditCard\n",
       "0           3.0                 0.0         0.0     0.0         0.0\n",
       "1           1.0                 0.0         0.0     1.0         1.0\n",
       "2           2.0                 0.0         0.0     0.0         0.0\n",
       "3           3.0                 1.0         0.0     0.0         0.0\n",
       "4           2.0                 0.0         1.0     1.0         1.0\n",
       "...         ...                 ...         ...     ...         ...\n",
       "3495        1.0                 0.0         0.0     1.0         0.0\n",
       "3496        2.0                 0.0         0.0     0.0         0.0\n",
       "3497        2.0                 0.0         1.0     1.0         0.0\n",
       "3498        2.0                 0.0         0.0     0.0         0.0\n",
       "3499        2.0                 0.0         0.0     0.0         0.0\n",
       "\n",
       "[3500 rows x 5 columns]"
      ]
     },
     "execution_count": 41,
     "metadata": {},
     "output_type": "execute_result"
    }
   ],
   "source": [
    "X_train_cat_dum"
   ]
  },
  {
   "cell_type": "code",
   "execution_count": 42,
   "id": "c6cace3f",
   "metadata": {
    "execution": {
     "iopub.execute_input": "2023-03-27T07:19:27.217203Z",
     "iopub.status.busy": "2023-03-27T07:19:27.216404Z",
     "iopub.status.idle": "2023-03-27T07:19:27.233634Z",
     "shell.execute_reply": "2023-03-27T07:19:27.232677Z"
    },
    "papermill": {
     "duration": 0.048401,
     "end_time": "2023-03-27T07:19:27.236056",
     "exception": false,
     "start_time": "2023-03-27T07:19:27.187655",
     "status": "completed"
    },
    "tags": []
   },
   "outputs": [
    {
     "data": {
      "text/html": [
       "<div>\n",
       "<style scoped>\n",
       "    .dataframe tbody tr th:only-of-type {\n",
       "        vertical-align: middle;\n",
       "    }\n",
       "\n",
       "    .dataframe tbody tr th {\n",
       "        vertical-align: top;\n",
       "    }\n",
       "\n",
       "    .dataframe thead th {\n",
       "        text-align: right;\n",
       "    }\n",
       "</style>\n",
       "<table border=\"1\" class=\"dataframe\">\n",
       "  <thead>\n",
       "    <tr style=\"text-align: right;\">\n",
       "      <th></th>\n",
       "      <th>index</th>\n",
       "      <th>Age</th>\n",
       "      <th>CCAvg</th>\n",
       "      <th>Experience</th>\n",
       "      <th>Income</th>\n",
       "      <th>Mortgage</th>\n",
       "    </tr>\n",
       "  </thead>\n",
       "  <tbody>\n",
       "    <tr>\n",
       "      <th>0</th>\n",
       "      <td>0</td>\n",
       "      <td>-1.417285</td>\n",
       "      <td>0.311855</td>\n",
       "      <td>-1.397532</td>\n",
       "      <td>0.789786</td>\n",
       "      <td>-0.547282</td>\n",
       "    </tr>\n",
       "    <tr>\n",
       "      <th>1</th>\n",
       "      <td>1</td>\n",
       "      <td>0.861912</td>\n",
       "      <td>-0.255620</td>\n",
       "      <td>0.881842</td>\n",
       "      <td>-1.115534</td>\n",
       "      <td>0.342596</td>\n",
       "    </tr>\n",
       "    <tr>\n",
       "      <th>2</th>\n",
       "      <td>2</td>\n",
       "      <td>-0.014702</td>\n",
       "      <td>4.567914</td>\n",
       "      <td>-0.433181</td>\n",
       "      <td>2.781712</td>\n",
       "      <td>-0.547282</td>\n",
       "    </tr>\n",
       "    <tr>\n",
       "      <th>3</th>\n",
       "      <td>3</td>\n",
       "      <td>-1.680270</td>\n",
       "      <td>0.311855</td>\n",
       "      <td>-1.572869</td>\n",
       "      <td>0.183548</td>\n",
       "      <td>1.398715</td>\n",
       "    </tr>\n",
       "    <tr>\n",
       "      <th>4</th>\n",
       "      <td>4</td>\n",
       "      <td>-0.102364</td>\n",
       "      <td>0.538845</td>\n",
       "      <td>-0.170177</td>\n",
       "      <td>-0.119571</td>\n",
       "      <td>-0.547282</td>\n",
       "    </tr>\n",
       "    <tr>\n",
       "      <th>...</th>\n",
       "      <td>...</td>\n",
       "      <td>...</td>\n",
       "      <td>...</td>\n",
       "      <td>...</td>\n",
       "      <td>...</td>\n",
       "      <td>...</td>\n",
       "    </tr>\n",
       "    <tr>\n",
       "      <th>1495</th>\n",
       "      <td>1495</td>\n",
       "      <td>1.124897</td>\n",
       "      <td>-0.596104</td>\n",
       "      <td>1.144847</td>\n",
       "      <td>-1.267094</td>\n",
       "      <td>-0.547282</td>\n",
       "    </tr>\n",
       "    <tr>\n",
       "      <th>1496</th>\n",
       "      <td>1496</td>\n",
       "      <td>-0.891317</td>\n",
       "      <td>1.163067</td>\n",
       "      <td>-1.309864</td>\n",
       "      <td>0.248502</td>\n",
       "      <td>-0.547282</td>\n",
       "    </tr>\n",
       "    <tr>\n",
       "      <th>1497</th>\n",
       "      <td>1497</td>\n",
       "      <td>1.212558</td>\n",
       "      <td>2.581753</td>\n",
       "      <td>1.320184</td>\n",
       "      <td>2.305382</td>\n",
       "      <td>-0.547282</td>\n",
       "    </tr>\n",
       "    <tr>\n",
       "      <th>1498</th>\n",
       "      <td>1498</td>\n",
       "      <td>-1.066639</td>\n",
       "      <td>-0.369115</td>\n",
       "      <td>-1.046859</td>\n",
       "      <td>-0.119571</td>\n",
       "      <td>-0.547282</td>\n",
       "    </tr>\n",
       "    <tr>\n",
       "      <th>1499</th>\n",
       "      <td>1499</td>\n",
       "      <td>0.248282</td>\n",
       "      <td>-1.106831</td>\n",
       "      <td>0.180496</td>\n",
       "      <td>1.006300</td>\n",
       "      <td>-0.547282</td>\n",
       "    </tr>\n",
       "  </tbody>\n",
       "</table>\n",
       "<p>1500 rows × 6 columns</p>\n",
       "</div>"
      ],
      "text/plain": [
       "      index       Age     CCAvg  Experience    Income  Mortgage\n",
       "0         0 -1.417285  0.311855   -1.397532  0.789786 -0.547282\n",
       "1         1  0.861912 -0.255620    0.881842 -1.115534  0.342596\n",
       "2         2 -0.014702  4.567914   -0.433181  2.781712 -0.547282\n",
       "3         3 -1.680270  0.311855   -1.572869  0.183548  1.398715\n",
       "4         4 -0.102364  0.538845   -0.170177 -0.119571 -0.547282\n",
       "...     ...       ...       ...         ...       ...       ...\n",
       "1495   1495  1.124897 -0.596104    1.144847 -1.267094 -0.547282\n",
       "1496   1496 -0.891317  1.163067   -1.309864  0.248502 -0.547282\n",
       "1497   1497  1.212558  2.581753    1.320184  2.305382 -0.547282\n",
       "1498   1498 -1.066639 -0.369115   -1.046859 -0.119571 -0.547282\n",
       "1499   1499  0.248282 -1.106831    0.180496  1.006300 -0.547282\n",
       "\n",
       "[1500 rows x 6 columns]"
      ]
     },
     "execution_count": 42,
     "metadata": {},
     "output_type": "execute_result"
    }
   ],
   "source": [
    "X_test_num_std = X_test_num_std.reset_index()\n",
    "X_test_num_std"
   ]
  },
  {
   "cell_type": "code",
   "execution_count": 43,
   "id": "ffde42d7",
   "metadata": {
    "execution": {
     "iopub.execute_input": "2023-03-27T07:19:27.291554Z",
     "iopub.status.busy": "2023-03-27T07:19:27.291042Z",
     "iopub.status.idle": "2023-03-27T07:19:27.296682Z",
     "shell.execute_reply": "2023-03-27T07:19:27.295639Z"
    },
    "papermill": {
     "duration": 0.036451,
     "end_time": "2023-03-27T07:19:27.299237",
     "exception": false,
     "start_time": "2023-03-27T07:19:27.262786",
     "status": "completed"
    },
    "tags": []
   },
   "outputs": [],
   "source": [
    "X_test_num_std = X_test_num_std.drop([\"index\"], axis=1)"
   ]
  },
  {
   "cell_type": "code",
   "execution_count": 44,
   "id": "cc327b8d",
   "metadata": {
    "execution": {
     "iopub.execute_input": "2023-03-27T07:19:27.355012Z",
     "iopub.status.busy": "2023-03-27T07:19:27.354193Z",
     "iopub.status.idle": "2023-03-27T07:19:27.369567Z",
     "shell.execute_reply": "2023-03-27T07:19:27.368283Z"
    },
    "papermill": {
     "duration": 0.046248,
     "end_time": "2023-03-27T07:19:27.372161",
     "exception": false,
     "start_time": "2023-03-27T07:19:27.325913",
     "status": "completed"
    },
    "tags": []
   },
   "outputs": [
    {
     "data": {
      "text/html": [
       "<div>\n",
       "<style scoped>\n",
       "    .dataframe tbody tr th:only-of-type {\n",
       "        vertical-align: middle;\n",
       "    }\n",
       "\n",
       "    .dataframe tbody tr th {\n",
       "        vertical-align: top;\n",
       "    }\n",
       "\n",
       "    .dataframe thead th {\n",
       "        text-align: right;\n",
       "    }\n",
       "</style>\n",
       "<table border=\"1\" class=\"dataframe\">\n",
       "  <thead>\n",
       "    <tr style=\"text-align: right;\">\n",
       "      <th></th>\n",
       "      <th>Age</th>\n",
       "      <th>CCAvg</th>\n",
       "      <th>Experience</th>\n",
       "      <th>Income</th>\n",
       "      <th>Mortgage</th>\n",
       "    </tr>\n",
       "  </thead>\n",
       "  <tbody>\n",
       "    <tr>\n",
       "      <th>0</th>\n",
       "      <td>-1.417285</td>\n",
       "      <td>0.311855</td>\n",
       "      <td>-1.397532</td>\n",
       "      <td>0.789786</td>\n",
       "      <td>-0.547282</td>\n",
       "    </tr>\n",
       "    <tr>\n",
       "      <th>1</th>\n",
       "      <td>0.861912</td>\n",
       "      <td>-0.255620</td>\n",
       "      <td>0.881842</td>\n",
       "      <td>-1.115534</td>\n",
       "      <td>0.342596</td>\n",
       "    </tr>\n",
       "    <tr>\n",
       "      <th>2</th>\n",
       "      <td>-0.014702</td>\n",
       "      <td>4.567914</td>\n",
       "      <td>-0.433181</td>\n",
       "      <td>2.781712</td>\n",
       "      <td>-0.547282</td>\n",
       "    </tr>\n",
       "    <tr>\n",
       "      <th>3</th>\n",
       "      <td>-1.680270</td>\n",
       "      <td>0.311855</td>\n",
       "      <td>-1.572869</td>\n",
       "      <td>0.183548</td>\n",
       "      <td>1.398715</td>\n",
       "    </tr>\n",
       "    <tr>\n",
       "      <th>4</th>\n",
       "      <td>-0.102364</td>\n",
       "      <td>0.538845</td>\n",
       "      <td>-0.170177</td>\n",
       "      <td>-0.119571</td>\n",
       "      <td>-0.547282</td>\n",
       "    </tr>\n",
       "    <tr>\n",
       "      <th>...</th>\n",
       "      <td>...</td>\n",
       "      <td>...</td>\n",
       "      <td>...</td>\n",
       "      <td>...</td>\n",
       "      <td>...</td>\n",
       "    </tr>\n",
       "    <tr>\n",
       "      <th>1495</th>\n",
       "      <td>1.124897</td>\n",
       "      <td>-0.596104</td>\n",
       "      <td>1.144847</td>\n",
       "      <td>-1.267094</td>\n",
       "      <td>-0.547282</td>\n",
       "    </tr>\n",
       "    <tr>\n",
       "      <th>1496</th>\n",
       "      <td>-0.891317</td>\n",
       "      <td>1.163067</td>\n",
       "      <td>-1.309864</td>\n",
       "      <td>0.248502</td>\n",
       "      <td>-0.547282</td>\n",
       "    </tr>\n",
       "    <tr>\n",
       "      <th>1497</th>\n",
       "      <td>1.212558</td>\n",
       "      <td>2.581753</td>\n",
       "      <td>1.320184</td>\n",
       "      <td>2.305382</td>\n",
       "      <td>-0.547282</td>\n",
       "    </tr>\n",
       "    <tr>\n",
       "      <th>1498</th>\n",
       "      <td>-1.066639</td>\n",
       "      <td>-0.369115</td>\n",
       "      <td>-1.046859</td>\n",
       "      <td>-0.119571</td>\n",
       "      <td>-0.547282</td>\n",
       "    </tr>\n",
       "    <tr>\n",
       "      <th>1499</th>\n",
       "      <td>0.248282</td>\n",
       "      <td>-1.106831</td>\n",
       "      <td>0.180496</td>\n",
       "      <td>1.006300</td>\n",
       "      <td>-0.547282</td>\n",
       "    </tr>\n",
       "  </tbody>\n",
       "</table>\n",
       "<p>1500 rows × 5 columns</p>\n",
       "</div>"
      ],
      "text/plain": [
       "           Age     CCAvg  Experience    Income  Mortgage\n",
       "0    -1.417285  0.311855   -1.397532  0.789786 -0.547282\n",
       "1     0.861912 -0.255620    0.881842 -1.115534  0.342596\n",
       "2    -0.014702  4.567914   -0.433181  2.781712 -0.547282\n",
       "3    -1.680270  0.311855   -1.572869  0.183548  1.398715\n",
       "4    -0.102364  0.538845   -0.170177 -0.119571 -0.547282\n",
       "...        ...       ...         ...       ...       ...\n",
       "1495  1.124897 -0.596104    1.144847 -1.267094 -0.547282\n",
       "1496 -0.891317  1.163067   -1.309864  0.248502 -0.547282\n",
       "1497  1.212558  2.581753    1.320184  2.305382 -0.547282\n",
       "1498 -1.066639 -0.369115   -1.046859 -0.119571 -0.547282\n",
       "1499  0.248282 -1.106831    0.180496  1.006300 -0.547282\n",
       "\n",
       "[1500 rows x 5 columns]"
      ]
     },
     "execution_count": 44,
     "metadata": {},
     "output_type": "execute_result"
    }
   ],
   "source": [
    "X_test_num_std"
   ]
  },
  {
   "cell_type": "code",
   "execution_count": 45,
   "id": "d75329e5",
   "metadata": {
    "execution": {
     "iopub.execute_input": "2023-03-27T07:19:27.431551Z",
     "iopub.status.busy": "2023-03-27T07:19:27.430706Z",
     "iopub.status.idle": "2023-03-27T07:19:27.453652Z",
     "shell.execute_reply": "2023-03-27T07:19:27.452207Z"
    },
    "papermill": {
     "duration": 0.055749,
     "end_time": "2023-03-27T07:19:27.456598",
     "exception": false,
     "start_time": "2023-03-27T07:19:27.400849",
     "status": "completed"
    },
    "tags": []
   },
   "outputs": [
    {
     "data": {
      "text/html": [
       "<div>\n",
       "<style scoped>\n",
       "    .dataframe tbody tr th:only-of-type {\n",
       "        vertical-align: middle;\n",
       "    }\n",
       "\n",
       "    .dataframe tbody tr th {\n",
       "        vertical-align: top;\n",
       "    }\n",
       "\n",
       "    .dataframe thead th {\n",
       "        text-align: right;\n",
       "    }\n",
       "</style>\n",
       "<table border=\"1\" class=\"dataframe\">\n",
       "  <thead>\n",
       "    <tr style=\"text-align: right;\">\n",
       "      <th></th>\n",
       "      <th>index</th>\n",
       "      <th>Education</th>\n",
       "      <th>Securities Account</th>\n",
       "      <th>CD Account</th>\n",
       "      <th>Online</th>\n",
       "      <th>CreditCard</th>\n",
       "    </tr>\n",
       "  </thead>\n",
       "  <tbody>\n",
       "    <tr>\n",
       "      <th>0</th>\n",
       "      <td>0</td>\n",
       "      <td>3.0</td>\n",
       "      <td>0.0</td>\n",
       "      <td>0.0</td>\n",
       "      <td>0.0</td>\n",
       "      <td>0.0</td>\n",
       "    </tr>\n",
       "    <tr>\n",
       "      <th>1</th>\n",
       "      <td>1</td>\n",
       "      <td>2.0</td>\n",
       "      <td>0.0</td>\n",
       "      <td>0.0</td>\n",
       "      <td>0.0</td>\n",
       "      <td>1.0</td>\n",
       "    </tr>\n",
       "    <tr>\n",
       "      <th>2</th>\n",
       "      <td>2</td>\n",
       "      <td>3.0</td>\n",
       "      <td>0.0</td>\n",
       "      <td>0.0</td>\n",
       "      <td>0.0</td>\n",
       "      <td>0.0</td>\n",
       "    </tr>\n",
       "    <tr>\n",
       "      <th>3</th>\n",
       "      <td>3</td>\n",
       "      <td>1.0</td>\n",
       "      <td>0.0</td>\n",
       "      <td>0.0</td>\n",
       "      <td>0.0</td>\n",
       "      <td>0.0</td>\n",
       "    </tr>\n",
       "    <tr>\n",
       "      <th>4</th>\n",
       "      <td>4</td>\n",
       "      <td>1.0</td>\n",
       "      <td>1.0</td>\n",
       "      <td>0.0</td>\n",
       "      <td>0.0</td>\n",
       "      <td>0.0</td>\n",
       "    </tr>\n",
       "    <tr>\n",
       "      <th>...</th>\n",
       "      <td>...</td>\n",
       "      <td>...</td>\n",
       "      <td>...</td>\n",
       "      <td>...</td>\n",
       "      <td>...</td>\n",
       "      <td>...</td>\n",
       "    </tr>\n",
       "    <tr>\n",
       "      <th>1495</th>\n",
       "      <td>1495</td>\n",
       "      <td>2.0</td>\n",
       "      <td>0.0</td>\n",
       "      <td>0.0</td>\n",
       "      <td>0.0</td>\n",
       "      <td>0.0</td>\n",
       "    </tr>\n",
       "    <tr>\n",
       "      <th>1496</th>\n",
       "      <td>1496</td>\n",
       "      <td>3.0</td>\n",
       "      <td>0.0</td>\n",
       "      <td>0.0</td>\n",
       "      <td>1.0</td>\n",
       "      <td>0.0</td>\n",
       "    </tr>\n",
       "    <tr>\n",
       "      <th>1497</th>\n",
       "      <td>1497</td>\n",
       "      <td>2.0</td>\n",
       "      <td>1.0</td>\n",
       "      <td>1.0</td>\n",
       "      <td>1.0</td>\n",
       "      <td>1.0</td>\n",
       "    </tr>\n",
       "    <tr>\n",
       "      <th>1498</th>\n",
       "      <td>1498</td>\n",
       "      <td>1.0</td>\n",
       "      <td>0.0</td>\n",
       "      <td>0.0</td>\n",
       "      <td>1.0</td>\n",
       "      <td>0.0</td>\n",
       "    </tr>\n",
       "    <tr>\n",
       "      <th>1499</th>\n",
       "      <td>1499</td>\n",
       "      <td>1.0</td>\n",
       "      <td>0.0</td>\n",
       "      <td>0.0</td>\n",
       "      <td>1.0</td>\n",
       "      <td>0.0</td>\n",
       "    </tr>\n",
       "  </tbody>\n",
       "</table>\n",
       "<p>1500 rows × 6 columns</p>\n",
       "</div>"
      ],
      "text/plain": [
       "      index  Education  Securities Account  CD Account  Online  CreditCard\n",
       "0         0        3.0                 0.0         0.0     0.0         0.0\n",
       "1         1        2.0                 0.0         0.0     0.0         1.0\n",
       "2         2        3.0                 0.0         0.0     0.0         0.0\n",
       "3         3        1.0                 0.0         0.0     0.0         0.0\n",
       "4         4        1.0                 1.0         0.0     0.0         0.0\n",
       "...     ...        ...                 ...         ...     ...         ...\n",
       "1495   1495        2.0                 0.0         0.0     0.0         0.0\n",
       "1496   1496        3.0                 0.0         0.0     1.0         0.0\n",
       "1497   1497        2.0                 1.0         1.0     1.0         1.0\n",
       "1498   1498        1.0                 0.0         0.0     1.0         0.0\n",
       "1499   1499        1.0                 0.0         0.0     1.0         0.0\n",
       "\n",
       "[1500 rows x 6 columns]"
      ]
     },
     "execution_count": 45,
     "metadata": {},
     "output_type": "execute_result"
    }
   ],
   "source": [
    "X_test_cat_dum = X_test_cat_dum.reset_index()\n",
    "X_test_cat_dum"
   ]
  },
  {
   "cell_type": "code",
   "execution_count": 46,
   "id": "246f3437",
   "metadata": {
    "execution": {
     "iopub.execute_input": "2023-03-27T07:19:27.514839Z",
     "iopub.status.busy": "2023-03-27T07:19:27.514423Z",
     "iopub.status.idle": "2023-03-27T07:19:27.521007Z",
     "shell.execute_reply": "2023-03-27T07:19:27.519580Z"
    },
    "papermill": {
     "duration": 0.038358,
     "end_time": "2023-03-27T07:19:27.523679",
     "exception": false,
     "start_time": "2023-03-27T07:19:27.485321",
     "status": "completed"
    },
    "tags": []
   },
   "outputs": [],
   "source": [
    "X_test_cat_dum = X_test_cat_dum.drop([\"index\"], axis=1)"
   ]
  },
  {
   "cell_type": "code",
   "execution_count": 47,
   "id": "e9f4e6e1",
   "metadata": {
    "execution": {
     "iopub.execute_input": "2023-03-27T07:19:27.580350Z",
     "iopub.status.busy": "2023-03-27T07:19:27.579866Z",
     "iopub.status.idle": "2023-03-27T07:19:27.599628Z",
     "shell.execute_reply": "2023-03-27T07:19:27.598333Z"
    },
    "papermill": {
     "duration": 0.051473,
     "end_time": "2023-03-27T07:19:27.602311",
     "exception": false,
     "start_time": "2023-03-27T07:19:27.550838",
     "status": "completed"
    },
    "tags": []
   },
   "outputs": [
    {
     "data": {
      "text/html": [
       "<div>\n",
       "<style scoped>\n",
       "    .dataframe tbody tr th:only-of-type {\n",
       "        vertical-align: middle;\n",
       "    }\n",
       "\n",
       "    .dataframe tbody tr th {\n",
       "        vertical-align: top;\n",
       "    }\n",
       "\n",
       "    .dataframe thead th {\n",
       "        text-align: right;\n",
       "    }\n",
       "</style>\n",
       "<table border=\"1\" class=\"dataframe\">\n",
       "  <thead>\n",
       "    <tr style=\"text-align: right;\">\n",
       "      <th></th>\n",
       "      <th>Education</th>\n",
       "      <th>Securities Account</th>\n",
       "      <th>CD Account</th>\n",
       "      <th>Online</th>\n",
       "      <th>CreditCard</th>\n",
       "    </tr>\n",
       "  </thead>\n",
       "  <tbody>\n",
       "    <tr>\n",
       "      <th>0</th>\n",
       "      <td>3.0</td>\n",
       "      <td>0.0</td>\n",
       "      <td>0.0</td>\n",
       "      <td>0.0</td>\n",
       "      <td>0.0</td>\n",
       "    </tr>\n",
       "    <tr>\n",
       "      <th>1</th>\n",
       "      <td>2.0</td>\n",
       "      <td>0.0</td>\n",
       "      <td>0.0</td>\n",
       "      <td>0.0</td>\n",
       "      <td>1.0</td>\n",
       "    </tr>\n",
       "    <tr>\n",
       "      <th>2</th>\n",
       "      <td>3.0</td>\n",
       "      <td>0.0</td>\n",
       "      <td>0.0</td>\n",
       "      <td>0.0</td>\n",
       "      <td>0.0</td>\n",
       "    </tr>\n",
       "    <tr>\n",
       "      <th>3</th>\n",
       "      <td>1.0</td>\n",
       "      <td>0.0</td>\n",
       "      <td>0.0</td>\n",
       "      <td>0.0</td>\n",
       "      <td>0.0</td>\n",
       "    </tr>\n",
       "    <tr>\n",
       "      <th>4</th>\n",
       "      <td>1.0</td>\n",
       "      <td>1.0</td>\n",
       "      <td>0.0</td>\n",
       "      <td>0.0</td>\n",
       "      <td>0.0</td>\n",
       "    </tr>\n",
       "    <tr>\n",
       "      <th>...</th>\n",
       "      <td>...</td>\n",
       "      <td>...</td>\n",
       "      <td>...</td>\n",
       "      <td>...</td>\n",
       "      <td>...</td>\n",
       "    </tr>\n",
       "    <tr>\n",
       "      <th>1495</th>\n",
       "      <td>2.0</td>\n",
       "      <td>0.0</td>\n",
       "      <td>0.0</td>\n",
       "      <td>0.0</td>\n",
       "      <td>0.0</td>\n",
       "    </tr>\n",
       "    <tr>\n",
       "      <th>1496</th>\n",
       "      <td>3.0</td>\n",
       "      <td>0.0</td>\n",
       "      <td>0.0</td>\n",
       "      <td>1.0</td>\n",
       "      <td>0.0</td>\n",
       "    </tr>\n",
       "    <tr>\n",
       "      <th>1497</th>\n",
       "      <td>2.0</td>\n",
       "      <td>1.0</td>\n",
       "      <td>1.0</td>\n",
       "      <td>1.0</td>\n",
       "      <td>1.0</td>\n",
       "    </tr>\n",
       "    <tr>\n",
       "      <th>1498</th>\n",
       "      <td>1.0</td>\n",
       "      <td>0.0</td>\n",
       "      <td>0.0</td>\n",
       "      <td>1.0</td>\n",
       "      <td>0.0</td>\n",
       "    </tr>\n",
       "    <tr>\n",
       "      <th>1499</th>\n",
       "      <td>1.0</td>\n",
       "      <td>0.0</td>\n",
       "      <td>0.0</td>\n",
       "      <td>1.0</td>\n",
       "      <td>0.0</td>\n",
       "    </tr>\n",
       "  </tbody>\n",
       "</table>\n",
       "<p>1500 rows × 5 columns</p>\n",
       "</div>"
      ],
      "text/plain": [
       "      Education  Securities Account  CD Account  Online  CreditCard\n",
       "0           3.0                 0.0         0.0     0.0         0.0\n",
       "1           2.0                 0.0         0.0     0.0         1.0\n",
       "2           3.0                 0.0         0.0     0.0         0.0\n",
       "3           1.0                 0.0         0.0     0.0         0.0\n",
       "4           1.0                 1.0         0.0     0.0         0.0\n",
       "...         ...                 ...         ...     ...         ...\n",
       "1495        2.0                 0.0         0.0     0.0         0.0\n",
       "1496        3.0                 0.0         0.0     1.0         0.0\n",
       "1497        2.0                 1.0         1.0     1.0         1.0\n",
       "1498        1.0                 0.0         0.0     1.0         0.0\n",
       "1499        1.0                 0.0         0.0     1.0         0.0\n",
       "\n",
       "[1500 rows x 5 columns]"
      ]
     },
     "execution_count": 47,
     "metadata": {},
     "output_type": "execute_result"
    }
   ],
   "source": [
    "X_test_cat_dum"
   ]
  },
  {
   "cell_type": "code",
   "execution_count": 48,
   "id": "371d47fa",
   "metadata": {
    "execution": {
     "iopub.execute_input": "2023-03-27T07:19:27.659656Z",
     "iopub.status.busy": "2023-03-27T07:19:27.659213Z",
     "iopub.status.idle": "2023-03-27T07:19:27.665976Z",
     "shell.execute_reply": "2023-03-27T07:19:27.664664Z"
    },
    "papermill": {
     "duration": 0.038849,
     "end_time": "2023-03-27T07:19:27.668632",
     "exception": false,
     "start_time": "2023-03-27T07:19:27.629783",
     "status": "completed"
    },
    "tags": []
   },
   "outputs": [],
   "source": [
    "final_X_train = pd.concat([X_train_num_std, X_train_cat_dum], axis=1)"
   ]
  },
  {
   "cell_type": "code",
   "execution_count": 49,
   "id": "2898919d",
   "metadata": {
    "execution": {
     "iopub.execute_input": "2023-03-27T07:19:27.726868Z",
     "iopub.status.busy": "2023-03-27T07:19:27.726468Z",
     "iopub.status.idle": "2023-03-27T07:19:27.733028Z",
     "shell.execute_reply": "2023-03-27T07:19:27.731735Z"
    },
    "papermill": {
     "duration": 0.039051,
     "end_time": "2023-03-27T07:19:27.735803",
     "exception": false,
     "start_time": "2023-03-27T07:19:27.696752",
     "status": "completed"
    },
    "tags": []
   },
   "outputs": [],
   "source": [
    "final_X_test = pd.concat([X_test_num_std, X_test_cat_dum], axis=1)"
   ]
  },
  {
   "cell_type": "code",
   "execution_count": 50,
   "id": "c1376f29",
   "metadata": {
    "execution": {
     "iopub.execute_input": "2023-03-27T07:19:27.793187Z",
     "iopub.status.busy": "2023-03-27T07:19:27.792787Z",
     "iopub.status.idle": "2023-03-27T07:19:27.802966Z",
     "shell.execute_reply": "2023-03-27T07:19:27.801718Z"
    },
    "papermill": {
     "duration": 0.042287,
     "end_time": "2023-03-27T07:19:27.805492",
     "exception": false,
     "start_time": "2023-03-27T07:19:27.763205",
     "status": "completed"
    },
    "tags": []
   },
   "outputs": [
    {
     "data": {
      "text/plain": [
       "Age                   0\n",
       "CCAvg                 0\n",
       "Experience            0\n",
       "Income                0\n",
       "Mortgage              0\n",
       "Education             0\n",
       "Securities Account    0\n",
       "CD Account            0\n",
       "Online                0\n",
       "CreditCard            0\n",
       "dtype: int64"
      ]
     },
     "execution_count": 50,
     "metadata": {},
     "output_type": "execute_result"
    }
   ],
   "source": [
    "final_X_train.isnull().sum()"
   ]
  },
  {
   "cell_type": "code",
   "execution_count": 51,
   "id": "ed33acbc",
   "metadata": {
    "execution": {
     "iopub.execute_input": "2023-03-27T07:19:27.865078Z",
     "iopub.status.busy": "2023-03-27T07:19:27.864297Z",
     "iopub.status.idle": "2023-03-27T07:19:27.874530Z",
     "shell.execute_reply": "2023-03-27T07:19:27.873336Z"
    },
    "papermill": {
     "duration": 0.042416,
     "end_time": "2023-03-27T07:19:27.876986",
     "exception": false,
     "start_time": "2023-03-27T07:19:27.834570",
     "status": "completed"
    },
    "tags": []
   },
   "outputs": [
    {
     "data": {
      "text/plain": [
       "Age                   0\n",
       "CCAvg                 0\n",
       "Experience            0\n",
       "Income                0\n",
       "Mortgage              0\n",
       "Education             0\n",
       "Securities Account    0\n",
       "CD Account            0\n",
       "Online                0\n",
       "CreditCard            0\n",
       "dtype: int64"
      ]
     },
     "execution_count": 51,
     "metadata": {},
     "output_type": "execute_result"
    }
   ],
   "source": [
    "final_X_test.isnull().sum()"
   ]
  },
  {
   "cell_type": "code",
   "execution_count": 52,
   "id": "87cb0215",
   "metadata": {
    "execution": {
     "iopub.execute_input": "2023-03-27T07:19:27.935240Z",
     "iopub.status.busy": "2023-03-27T07:19:27.934075Z",
     "iopub.status.idle": "2023-03-27T07:19:27.958715Z",
     "shell.execute_reply": "2023-03-27T07:19:27.957452Z"
    },
    "papermill": {
     "duration": 0.056791,
     "end_time": "2023-03-27T07:19:27.961336",
     "exception": false,
     "start_time": "2023-03-27T07:19:27.904545",
     "status": "completed"
    },
    "tags": []
   },
   "outputs": [
    {
     "data": {
      "text/html": [
       "<div>\n",
       "<style scoped>\n",
       "    .dataframe tbody tr th:only-of-type {\n",
       "        vertical-align: middle;\n",
       "    }\n",
       "\n",
       "    .dataframe tbody tr th {\n",
       "        vertical-align: top;\n",
       "    }\n",
       "\n",
       "    .dataframe thead th {\n",
       "        text-align: right;\n",
       "    }\n",
       "</style>\n",
       "<table border=\"1\" class=\"dataframe\">\n",
       "  <thead>\n",
       "    <tr style=\"text-align: right;\">\n",
       "      <th></th>\n",
       "      <th>Age</th>\n",
       "      <th>CCAvg</th>\n",
       "      <th>Experience</th>\n",
       "      <th>Income</th>\n",
       "      <th>Mortgage</th>\n",
       "      <th>Education</th>\n",
       "      <th>Securities Account</th>\n",
       "      <th>CD Account</th>\n",
       "      <th>Online</th>\n",
       "      <th>CreditCard</th>\n",
       "    </tr>\n",
       "  </thead>\n",
       "  <tbody>\n",
       "    <tr>\n",
       "      <th>0</th>\n",
       "      <td>-0.365348</td>\n",
       "      <td>-0.823094</td>\n",
       "      <td>-0.433181</td>\n",
       "      <td>-0.184525</td>\n",
       "      <td>-0.547282</td>\n",
       "      <td>3.0</td>\n",
       "      <td>0.0</td>\n",
       "      <td>0.0</td>\n",
       "      <td>0.0</td>\n",
       "      <td>0.0</td>\n",
       "    </tr>\n",
       "    <tr>\n",
       "      <th>1</th>\n",
       "      <td>0.949574</td>\n",
       "      <td>-0.936589</td>\n",
       "      <td>1.057179</td>\n",
       "      <td>0.356759</td>\n",
       "      <td>-0.547282</td>\n",
       "      <td>1.0</td>\n",
       "      <td>0.0</td>\n",
       "      <td>0.0</td>\n",
       "      <td>1.0</td>\n",
       "      <td>1.0</td>\n",
       "    </tr>\n",
       "    <tr>\n",
       "      <th>2</th>\n",
       "      <td>-0.190025</td>\n",
       "      <td>0.879329</td>\n",
       "      <td>-0.257845</td>\n",
       "      <td>1.114557</td>\n",
       "      <td>-0.547282</td>\n",
       "      <td>2.0</td>\n",
       "      <td>0.0</td>\n",
       "      <td>0.0</td>\n",
       "      <td>0.0</td>\n",
       "      <td>0.0</td>\n",
       "    </tr>\n",
       "    <tr>\n",
       "      <th>3</th>\n",
       "      <td>1.212558</td>\n",
       "      <td>0.198360</td>\n",
       "      <td>1.320184</td>\n",
       "      <td>0.031988</td>\n",
       "      <td>-0.547282</td>\n",
       "      <td>3.0</td>\n",
       "      <td>1.0</td>\n",
       "      <td>0.0</td>\n",
       "      <td>0.0</td>\n",
       "      <td>0.0</td>\n",
       "    </tr>\n",
       "    <tr>\n",
       "      <th>4</th>\n",
       "      <td>-1.592608</td>\n",
       "      <td>-0.085377</td>\n",
       "      <td>-1.660537</td>\n",
       "      <td>-0.336085</td>\n",
       "      <td>0.958665</td>\n",
       "      <td>2.0</td>\n",
       "      <td>0.0</td>\n",
       "      <td>1.0</td>\n",
       "      <td>1.0</td>\n",
       "      <td>1.0</td>\n",
       "    </tr>\n",
       "    <tr>\n",
       "      <th>...</th>\n",
       "      <td>...</td>\n",
       "      <td>...</td>\n",
       "      <td>...</td>\n",
       "      <td>...</td>\n",
       "      <td>...</td>\n",
       "      <td>...</td>\n",
       "      <td>...</td>\n",
       "      <td>...</td>\n",
       "      <td>...</td>\n",
       "      <td>...</td>\n",
       "    </tr>\n",
       "    <tr>\n",
       "      <th>3495</th>\n",
       "      <td>-0.978978</td>\n",
       "      <td>0.595592</td>\n",
       "      <td>-0.959191</td>\n",
       "      <td>2.695106</td>\n",
       "      <td>3.579405</td>\n",
       "      <td>1.0</td>\n",
       "      <td>0.0</td>\n",
       "      <td>0.0</td>\n",
       "      <td>1.0</td>\n",
       "      <td>0.0</td>\n",
       "    </tr>\n",
       "    <tr>\n",
       "      <th>3496</th>\n",
       "      <td>0.774251</td>\n",
       "      <td>-0.085377</td>\n",
       "      <td>0.881842</td>\n",
       "      <td>0.096942</td>\n",
       "      <td>-0.547282</td>\n",
       "      <td>2.0</td>\n",
       "      <td>0.0</td>\n",
       "      <td>0.0</td>\n",
       "      <td>0.0</td>\n",
       "      <td>0.0</td>\n",
       "    </tr>\n",
       "    <tr>\n",
       "      <th>3497</th>\n",
       "      <td>0.248282</td>\n",
       "      <td>0.765834</td>\n",
       "      <td>0.355833</td>\n",
       "      <td>1.915657</td>\n",
       "      <td>3.814098</td>\n",
       "      <td>2.0</td>\n",
       "      <td>0.0</td>\n",
       "      <td>1.0</td>\n",
       "      <td>1.0</td>\n",
       "      <td>0.0</td>\n",
       "    </tr>\n",
       "    <tr>\n",
       "      <th>3498</th>\n",
       "      <td>0.248282</td>\n",
       "      <td>0.482097</td>\n",
       "      <td>0.268165</td>\n",
       "      <td>-0.076268</td>\n",
       "      <td>-0.547282</td>\n",
       "      <td>2.0</td>\n",
       "      <td>0.0</td>\n",
       "      <td>0.0</td>\n",
       "      <td>0.0</td>\n",
       "      <td>0.0</td>\n",
       "    </tr>\n",
       "    <tr>\n",
       "      <th>3499</th>\n",
       "      <td>-1.066639</td>\n",
       "      <td>0.141612</td>\n",
       "      <td>-1.134527</td>\n",
       "      <td>-0.552599</td>\n",
       "      <td>1.476946</td>\n",
       "      <td>2.0</td>\n",
       "      <td>0.0</td>\n",
       "      <td>0.0</td>\n",
       "      <td>0.0</td>\n",
       "      <td>0.0</td>\n",
       "    </tr>\n",
       "  </tbody>\n",
       "</table>\n",
       "<p>3500 rows × 10 columns</p>\n",
       "</div>"
      ],
      "text/plain": [
       "           Age     CCAvg  Experience    Income  Mortgage  Education  \\\n",
       "0    -0.365348 -0.823094   -0.433181 -0.184525 -0.547282        3.0   \n",
       "1     0.949574 -0.936589    1.057179  0.356759 -0.547282        1.0   \n",
       "2    -0.190025  0.879329   -0.257845  1.114557 -0.547282        2.0   \n",
       "3     1.212558  0.198360    1.320184  0.031988 -0.547282        3.0   \n",
       "4    -1.592608 -0.085377   -1.660537 -0.336085  0.958665        2.0   \n",
       "...        ...       ...         ...       ...       ...        ...   \n",
       "3495 -0.978978  0.595592   -0.959191  2.695106  3.579405        1.0   \n",
       "3496  0.774251 -0.085377    0.881842  0.096942 -0.547282        2.0   \n",
       "3497  0.248282  0.765834    0.355833  1.915657  3.814098        2.0   \n",
       "3498  0.248282  0.482097    0.268165 -0.076268 -0.547282        2.0   \n",
       "3499 -1.066639  0.141612   -1.134527 -0.552599  1.476946        2.0   \n",
       "\n",
       "      Securities Account  CD Account  Online  CreditCard  \n",
       "0                    0.0         0.0     0.0         0.0  \n",
       "1                    0.0         0.0     1.0         1.0  \n",
       "2                    0.0         0.0     0.0         0.0  \n",
       "3                    1.0         0.0     0.0         0.0  \n",
       "4                    0.0         1.0     1.0         1.0  \n",
       "...                  ...         ...     ...         ...  \n",
       "3495                 0.0         0.0     1.0         0.0  \n",
       "3496                 0.0         0.0     0.0         0.0  \n",
       "3497                 0.0         1.0     1.0         0.0  \n",
       "3498                 0.0         0.0     0.0         0.0  \n",
       "3499                 0.0         0.0     0.0         0.0  \n",
       "\n",
       "[3500 rows x 10 columns]"
      ]
     },
     "execution_count": 52,
     "metadata": {},
     "output_type": "execute_result"
    }
   ],
   "source": [
    "final_X_train"
   ]
  },
  {
   "cell_type": "code",
   "execution_count": 53,
   "id": "cf7d96a8",
   "metadata": {
    "execution": {
     "iopub.execute_input": "2023-03-27T07:19:28.019674Z",
     "iopub.status.busy": "2023-03-27T07:19:28.019221Z",
     "iopub.status.idle": "2023-03-27T07:19:28.044331Z",
     "shell.execute_reply": "2023-03-27T07:19:28.042682Z"
    },
    "papermill": {
     "duration": 0.057213,
     "end_time": "2023-03-27T07:19:28.046958",
     "exception": false,
     "start_time": "2023-03-27T07:19:27.989745",
     "status": "completed"
    },
    "tags": []
   },
   "outputs": [
    {
     "data": {
      "text/html": [
       "<div>\n",
       "<style scoped>\n",
       "    .dataframe tbody tr th:only-of-type {\n",
       "        vertical-align: middle;\n",
       "    }\n",
       "\n",
       "    .dataframe tbody tr th {\n",
       "        vertical-align: top;\n",
       "    }\n",
       "\n",
       "    .dataframe thead th {\n",
       "        text-align: right;\n",
       "    }\n",
       "</style>\n",
       "<table border=\"1\" class=\"dataframe\">\n",
       "  <thead>\n",
       "    <tr style=\"text-align: right;\">\n",
       "      <th></th>\n",
       "      <th>Age</th>\n",
       "      <th>CCAvg</th>\n",
       "      <th>Experience</th>\n",
       "      <th>Income</th>\n",
       "      <th>Mortgage</th>\n",
       "      <th>Education</th>\n",
       "      <th>Securities Account</th>\n",
       "      <th>CD Account</th>\n",
       "      <th>Online</th>\n",
       "      <th>CreditCard</th>\n",
       "    </tr>\n",
       "  </thead>\n",
       "  <tbody>\n",
       "    <tr>\n",
       "      <th>0</th>\n",
       "      <td>-1.417285</td>\n",
       "      <td>0.311855</td>\n",
       "      <td>-1.397532</td>\n",
       "      <td>0.789786</td>\n",
       "      <td>-0.547282</td>\n",
       "      <td>3.0</td>\n",
       "      <td>0.0</td>\n",
       "      <td>0.0</td>\n",
       "      <td>0.0</td>\n",
       "      <td>0.0</td>\n",
       "    </tr>\n",
       "    <tr>\n",
       "      <th>1</th>\n",
       "      <td>0.861912</td>\n",
       "      <td>-0.255620</td>\n",
       "      <td>0.881842</td>\n",
       "      <td>-1.115534</td>\n",
       "      <td>0.342596</td>\n",
       "      <td>2.0</td>\n",
       "      <td>0.0</td>\n",
       "      <td>0.0</td>\n",
       "      <td>0.0</td>\n",
       "      <td>1.0</td>\n",
       "    </tr>\n",
       "    <tr>\n",
       "      <th>2</th>\n",
       "      <td>-0.014702</td>\n",
       "      <td>4.567914</td>\n",
       "      <td>-0.433181</td>\n",
       "      <td>2.781712</td>\n",
       "      <td>-0.547282</td>\n",
       "      <td>3.0</td>\n",
       "      <td>0.0</td>\n",
       "      <td>0.0</td>\n",
       "      <td>0.0</td>\n",
       "      <td>0.0</td>\n",
       "    </tr>\n",
       "    <tr>\n",
       "      <th>3</th>\n",
       "      <td>-1.680270</td>\n",
       "      <td>0.311855</td>\n",
       "      <td>-1.572869</td>\n",
       "      <td>0.183548</td>\n",
       "      <td>1.398715</td>\n",
       "      <td>1.0</td>\n",
       "      <td>0.0</td>\n",
       "      <td>0.0</td>\n",
       "      <td>0.0</td>\n",
       "      <td>0.0</td>\n",
       "    </tr>\n",
       "    <tr>\n",
       "      <th>4</th>\n",
       "      <td>-0.102364</td>\n",
       "      <td>0.538845</td>\n",
       "      <td>-0.170177</td>\n",
       "      <td>-0.119571</td>\n",
       "      <td>-0.547282</td>\n",
       "      <td>1.0</td>\n",
       "      <td>1.0</td>\n",
       "      <td>0.0</td>\n",
       "      <td>0.0</td>\n",
       "      <td>0.0</td>\n",
       "    </tr>\n",
       "    <tr>\n",
       "      <th>...</th>\n",
       "      <td>...</td>\n",
       "      <td>...</td>\n",
       "      <td>...</td>\n",
       "      <td>...</td>\n",
       "      <td>...</td>\n",
       "      <td>...</td>\n",
       "      <td>...</td>\n",
       "      <td>...</td>\n",
       "      <td>...</td>\n",
       "      <td>...</td>\n",
       "    </tr>\n",
       "    <tr>\n",
       "      <th>1495</th>\n",
       "      <td>1.124897</td>\n",
       "      <td>-0.596104</td>\n",
       "      <td>1.144847</td>\n",
       "      <td>-1.267094</td>\n",
       "      <td>-0.547282</td>\n",
       "      <td>2.0</td>\n",
       "      <td>0.0</td>\n",
       "      <td>0.0</td>\n",
       "      <td>0.0</td>\n",
       "      <td>0.0</td>\n",
       "    </tr>\n",
       "    <tr>\n",
       "      <th>1496</th>\n",
       "      <td>-0.891317</td>\n",
       "      <td>1.163067</td>\n",
       "      <td>-1.309864</td>\n",
       "      <td>0.248502</td>\n",
       "      <td>-0.547282</td>\n",
       "      <td>3.0</td>\n",
       "      <td>0.0</td>\n",
       "      <td>0.0</td>\n",
       "      <td>1.0</td>\n",
       "      <td>0.0</td>\n",
       "    </tr>\n",
       "    <tr>\n",
       "      <th>1497</th>\n",
       "      <td>1.212558</td>\n",
       "      <td>2.581753</td>\n",
       "      <td>1.320184</td>\n",
       "      <td>2.305382</td>\n",
       "      <td>-0.547282</td>\n",
       "      <td>2.0</td>\n",
       "      <td>1.0</td>\n",
       "      <td>1.0</td>\n",
       "      <td>1.0</td>\n",
       "      <td>1.0</td>\n",
       "    </tr>\n",
       "    <tr>\n",
       "      <th>1498</th>\n",
       "      <td>-1.066639</td>\n",
       "      <td>-0.369115</td>\n",
       "      <td>-1.046859</td>\n",
       "      <td>-0.119571</td>\n",
       "      <td>-0.547282</td>\n",
       "      <td>1.0</td>\n",
       "      <td>0.0</td>\n",
       "      <td>0.0</td>\n",
       "      <td>1.0</td>\n",
       "      <td>0.0</td>\n",
       "    </tr>\n",
       "    <tr>\n",
       "      <th>1499</th>\n",
       "      <td>0.248282</td>\n",
       "      <td>-1.106831</td>\n",
       "      <td>0.180496</td>\n",
       "      <td>1.006300</td>\n",
       "      <td>-0.547282</td>\n",
       "      <td>1.0</td>\n",
       "      <td>0.0</td>\n",
       "      <td>0.0</td>\n",
       "      <td>1.0</td>\n",
       "      <td>0.0</td>\n",
       "    </tr>\n",
       "  </tbody>\n",
       "</table>\n",
       "<p>1500 rows × 10 columns</p>\n",
       "</div>"
      ],
      "text/plain": [
       "           Age     CCAvg  Experience    Income  Mortgage  Education  \\\n",
       "0    -1.417285  0.311855   -1.397532  0.789786 -0.547282        3.0   \n",
       "1     0.861912 -0.255620    0.881842 -1.115534  0.342596        2.0   \n",
       "2    -0.014702  4.567914   -0.433181  2.781712 -0.547282        3.0   \n",
       "3    -1.680270  0.311855   -1.572869  0.183548  1.398715        1.0   \n",
       "4    -0.102364  0.538845   -0.170177 -0.119571 -0.547282        1.0   \n",
       "...        ...       ...         ...       ...       ...        ...   \n",
       "1495  1.124897 -0.596104    1.144847 -1.267094 -0.547282        2.0   \n",
       "1496 -0.891317  1.163067   -1.309864  0.248502 -0.547282        3.0   \n",
       "1497  1.212558  2.581753    1.320184  2.305382 -0.547282        2.0   \n",
       "1498 -1.066639 -0.369115   -1.046859 -0.119571 -0.547282        1.0   \n",
       "1499  0.248282 -1.106831    0.180496  1.006300 -0.547282        1.0   \n",
       "\n",
       "      Securities Account  CD Account  Online  CreditCard  \n",
       "0                    0.0         0.0     0.0         0.0  \n",
       "1                    0.0         0.0     0.0         1.0  \n",
       "2                    0.0         0.0     0.0         0.0  \n",
       "3                    0.0         0.0     0.0         0.0  \n",
       "4                    1.0         0.0     0.0         0.0  \n",
       "...                  ...         ...     ...         ...  \n",
       "1495                 0.0         0.0     0.0         0.0  \n",
       "1496                 0.0         0.0     1.0         0.0  \n",
       "1497                 1.0         1.0     1.0         1.0  \n",
       "1498                 0.0         0.0     1.0         0.0  \n",
       "1499                 0.0         0.0     1.0         0.0  \n",
       "\n",
       "[1500 rows x 10 columns]"
      ]
     },
     "execution_count": 53,
     "metadata": {},
     "output_type": "execute_result"
    }
   ],
   "source": [
    "final_X_test"
   ]
  },
  {
   "cell_type": "markdown",
   "id": "80ec7af3",
   "metadata": {
    "papermill": {
     "duration": 0.028975,
     "end_time": "2023-03-27T07:19:28.105481",
     "exception": false,
     "start_time": "2023-03-27T07:19:28.076506",
     "status": "completed"
    },
    "tags": []
   },
   "source": [
    "# Model building"
   ]
  },
  {
   "cell_type": "markdown",
   "id": "ad695856",
   "metadata": {
    "papermill": {
     "duration": 0.030597,
     "end_time": "2023-03-27T07:19:28.166603",
     "exception": false,
     "start_time": "2023-03-27T07:19:28.136006",
     "status": "completed"
    },
    "tags": []
   },
   "source": [
    "## Logistic Regression"
   ]
  },
  {
   "cell_type": "code",
   "execution_count": 54,
   "id": "3dd22648",
   "metadata": {
    "execution": {
     "iopub.execute_input": "2023-03-27T07:19:28.227167Z",
     "iopub.status.busy": "2023-03-27T07:19:28.226695Z",
     "iopub.status.idle": "2023-03-27T07:19:28.232114Z",
     "shell.execute_reply": "2023-03-27T07:19:28.230726Z"
    },
    "papermill": {
     "duration": 0.038526,
     "end_time": "2023-03-27T07:19:28.234642",
     "exception": false,
     "start_time": "2023-03-27T07:19:28.196116",
     "status": "completed"
    },
    "tags": []
   },
   "outputs": [],
   "source": [
    "from sklearn.linear_model import LogisticRegression"
   ]
  },
  {
   "cell_type": "code",
   "execution_count": 55,
   "id": "8cc81926",
   "metadata": {
    "execution": {
     "iopub.execute_input": "2023-03-27T07:19:28.297152Z",
     "iopub.status.busy": "2023-03-27T07:19:28.296073Z",
     "iopub.status.idle": "2023-03-27T07:19:28.358937Z",
     "shell.execute_reply": "2023-03-27T07:19:28.357143Z"
    },
    "papermill": {
     "duration": 0.098503,
     "end_time": "2023-03-27T07:19:28.364054",
     "exception": false,
     "start_time": "2023-03-27T07:19:28.265551",
     "status": "completed"
    },
    "tags": []
   },
   "outputs": [],
   "source": [
    "lr = LogisticRegression()\n",
    "lr = lr.fit(final_X_train,y_train)"
   ]
  },
  {
   "cell_type": "code",
   "execution_count": 56,
   "id": "3b996104",
   "metadata": {
    "execution": {
     "iopub.execute_input": "2023-03-27T07:19:28.495227Z",
     "iopub.status.busy": "2023-03-27T07:19:28.494833Z",
     "iopub.status.idle": "2023-03-27T07:19:28.512934Z",
     "shell.execute_reply": "2023-03-27T07:19:28.511024Z"
    },
    "papermill": {
     "duration": 0.076544,
     "end_time": "2023-03-27T07:19:28.518107",
     "exception": false,
     "start_time": "2023-03-27T07:19:28.441563",
     "status": "completed"
    },
    "tags": []
   },
   "outputs": [
    {
     "data": {
      "text/plain": [
       "array([0, 0, 0, 0, 0, 0, 0, 0, 0, 0])"
      ]
     },
     "execution_count": 56,
     "metadata": {},
     "output_type": "execute_result"
    }
   ],
   "source": [
    "y_train_preds = lr.predict(final_X_train)\n",
    "y_train_preds[0:10]"
   ]
  },
  {
   "cell_type": "code",
   "execution_count": 57,
   "id": "a1702ea4",
   "metadata": {
    "execution": {
     "iopub.execute_input": "2023-03-27T07:19:28.643638Z",
     "iopub.status.busy": "2023-03-27T07:19:28.643213Z",
     "iopub.status.idle": "2023-03-27T07:19:28.657932Z",
     "shell.execute_reply": "2023-03-27T07:19:28.656141Z"
    },
    "papermill": {
     "duration": 0.063355,
     "end_time": "2023-03-27T07:19:28.662549",
     "exception": false,
     "start_time": "2023-03-27T07:19:28.599194",
     "status": "completed"
    },
    "tags": []
   },
   "outputs": [
    {
     "data": {
      "text/plain": [
       "array([0, 0, 1, 0, 0, 0, 0, 0, 0, 0])"
      ]
     },
     "execution_count": 57,
     "metadata": {},
     "output_type": "execute_result"
    }
   ],
   "source": [
    "y_test_preds = lr.predict(final_X_test)\n",
    "y_test_preds[0:10]"
   ]
  },
  {
   "cell_type": "code",
   "execution_count": 58,
   "id": "adc7e6c2",
   "metadata": {
    "execution": {
     "iopub.execute_input": "2023-03-27T07:19:28.791036Z",
     "iopub.status.busy": "2023-03-27T07:19:28.789811Z",
     "iopub.status.idle": "2023-03-27T07:19:28.801333Z",
     "shell.execute_reply": "2023-03-27T07:19:28.800106Z"
    },
    "papermill": {
     "duration": 0.06264,
     "end_time": "2023-03-27T07:19:28.803959",
     "exception": false,
     "start_time": "2023-03-27T07:19:28.741319",
     "status": "completed"
    },
    "tags": []
   },
   "outputs": [
    {
     "data": {
      "text/plain": [
       "array([[3124,   40],\n",
       "       [ 134,  202]])"
      ]
     },
     "execution_count": 58,
     "metadata": {},
     "output_type": "execute_result"
    }
   ],
   "source": [
    "from sklearn.metrics import confusion_matrix\n",
    "confusionmatrix = confusion_matrix(y_train,y_train_preds)\n",
    "confusionmatrix"
   ]
  },
  {
   "cell_type": "code",
   "execution_count": 59,
   "id": "1345f8ad",
   "metadata": {
    "execution": {
     "iopub.execute_input": "2023-03-27T07:19:28.865822Z",
     "iopub.status.busy": "2023-03-27T07:19:28.865391Z",
     "iopub.status.idle": "2023-03-27T07:19:28.874404Z",
     "shell.execute_reply": "2023-03-27T07:19:28.873356Z"
    },
    "papermill": {
     "duration": 0.04309,
     "end_time": "2023-03-27T07:19:28.876767",
     "exception": false,
     "start_time": "2023-03-27T07:19:28.833677",
     "status": "completed"
    },
    "tags": []
   },
   "outputs": [
    {
     "data": {
      "text/plain": [
       "array([[1342,   14],\n",
       "       [  59,   85]])"
      ]
     },
     "execution_count": 59,
     "metadata": {},
     "output_type": "execute_result"
    }
   ],
   "source": [
    "confusionmatrix = confusion_matrix(y_test,y_test_preds)\n",
    "confusionmatrix"
   ]
  },
  {
   "cell_type": "code",
   "execution_count": 60,
   "id": "6eb200a4",
   "metadata": {
    "execution": {
     "iopub.execute_input": "2023-03-27T07:19:28.937011Z",
     "iopub.status.busy": "2023-03-27T07:19:28.936582Z",
     "iopub.status.idle": "2023-03-27T07:19:28.945023Z",
     "shell.execute_reply": "2023-03-27T07:19:28.943953Z"
    },
    "papermill": {
     "duration": 0.041224,
     "end_time": "2023-03-27T07:19:28.947484",
     "exception": false,
     "start_time": "2023-03-27T07:19:28.906260",
     "status": "completed"
    },
    "tags": []
   },
   "outputs": [
    {
     "data": {
      "text/plain": [
       "0.9502857142857143"
      ]
     },
     "execution_count": 60,
     "metadata": {},
     "output_type": "execute_result"
    }
   ],
   "source": [
    "from sklearn.metrics import accuracy_score\n",
    "accuracy_score(y_train,y_train_preds)"
   ]
  },
  {
   "cell_type": "code",
   "execution_count": 61,
   "id": "9c17791e",
   "metadata": {
    "execution": {
     "iopub.execute_input": "2023-03-27T07:19:29.006879Z",
     "iopub.status.busy": "2023-03-27T07:19:29.006432Z",
     "iopub.status.idle": "2023-03-27T07:19:29.015784Z",
     "shell.execute_reply": "2023-03-27T07:19:29.014550Z"
    },
    "papermill": {
     "duration": 0.042512,
     "end_time": "2023-03-27T07:19:29.018676",
     "exception": false,
     "start_time": "2023-03-27T07:19:28.976164",
     "status": "completed"
    },
    "tags": []
   },
   "outputs": [
    {
     "data": {
      "text/plain": [
       "0.9513333333333334"
      ]
     },
     "execution_count": 61,
     "metadata": {},
     "output_type": "execute_result"
    }
   ],
   "source": [
    "accuracy_score(y_test,y_test_preds)"
   ]
  },
  {
   "cell_type": "code",
   "execution_count": null,
   "id": "4b731d01",
   "metadata": {
    "papermill": {
     "duration": 0.028496,
     "end_time": "2023-03-27T07:19:29.076028",
     "exception": false,
     "start_time": "2023-03-27T07:19:29.047532",
     "status": "completed"
    },
    "tags": []
   },
   "outputs": [],
   "source": []
  },
  {
   "cell_type": "markdown",
   "id": "e5db9d0c",
   "metadata": {
    "papermill": {
     "duration": 0.028409,
     "end_time": "2023-03-27T07:19:29.135234",
     "exception": false,
     "start_time": "2023-03-27T07:19:29.106825",
     "status": "completed"
    },
    "tags": []
   },
   "source": [
    "## Decision Trees"
   ]
  },
  {
   "cell_type": "code",
   "execution_count": 62,
   "id": "150e2562",
   "metadata": {
    "execution": {
     "iopub.execute_input": "2023-03-27T07:19:29.201242Z",
     "iopub.status.busy": "2023-03-27T07:19:29.199964Z",
     "iopub.status.idle": "2023-03-27T07:19:29.260033Z",
     "shell.execute_reply": "2023-03-27T07:19:29.258809Z"
    },
    "papermill": {
     "duration": 0.097449,
     "end_time": "2023-03-27T07:19:29.263260",
     "exception": false,
     "start_time": "2023-03-27T07:19:29.165811",
     "status": "completed"
    },
    "tags": []
   },
   "outputs": [],
   "source": [
    "from sklearn import tree"
   ]
  },
  {
   "cell_type": "code",
   "execution_count": 63,
   "id": "c36ae55d",
   "metadata": {
    "execution": {
     "iopub.execute_input": "2023-03-27T07:19:29.325145Z",
     "iopub.status.busy": "2023-03-27T07:19:29.324692Z",
     "iopub.status.idle": "2023-03-27T07:19:29.339492Z",
     "shell.execute_reply": "2023-03-27T07:19:29.338098Z"
    },
    "papermill": {
     "duration": 0.048767,
     "end_time": "2023-03-27T07:19:29.342512",
     "exception": false,
     "start_time": "2023-03-27T07:19:29.293745",
     "status": "completed"
    },
    "tags": []
   },
   "outputs": [],
   "source": [
    "dt = tree.DecisionTreeClassifier()\n",
    "dt = dt.fit(final_X_train, y_train)"
   ]
  },
  {
   "cell_type": "code",
   "execution_count": 64,
   "id": "f36c34e7",
   "metadata": {
    "execution": {
     "iopub.execute_input": "2023-03-27T07:19:29.403763Z",
     "iopub.status.busy": "2023-03-27T07:19:29.403327Z",
     "iopub.status.idle": "2023-03-27T07:19:29.413961Z",
     "shell.execute_reply": "2023-03-27T07:19:29.412478Z"
    },
    "papermill": {
     "duration": 0.044528,
     "end_time": "2023-03-27T07:19:29.416723",
     "exception": false,
     "start_time": "2023-03-27T07:19:29.372195",
     "status": "completed"
    },
    "tags": []
   },
   "outputs": [
    {
     "data": {
      "text/plain": [
       "array([0, 0, 1, 0, 0, 0, 0, 0, 0, 0])"
      ]
     },
     "execution_count": 64,
     "metadata": {},
     "output_type": "execute_result"
    }
   ],
   "source": [
    "y_train_preds = dt.predict(final_X_train)\n",
    "y_train_preds[0:10]"
   ]
  },
  {
   "cell_type": "code",
   "execution_count": 65,
   "id": "32845091",
   "metadata": {
    "execution": {
     "iopub.execute_input": "2023-03-27T07:19:29.481371Z",
     "iopub.status.busy": "2023-03-27T07:19:29.480070Z",
     "iopub.status.idle": "2023-03-27T07:19:29.490812Z",
     "shell.execute_reply": "2023-03-27T07:19:29.489358Z"
    },
    "papermill": {
     "duration": 0.046857,
     "end_time": "2023-03-27T07:19:29.493568",
     "exception": false,
     "start_time": "2023-03-27T07:19:29.446711",
     "status": "completed"
    },
    "tags": []
   },
   "outputs": [
    {
     "data": {
      "text/plain": [
       "array([0, 0, 1, 0, 0, 0, 0, 0, 0, 0])"
      ]
     },
     "execution_count": 65,
     "metadata": {},
     "output_type": "execute_result"
    }
   ],
   "source": [
    "y_test_preds = dt.predict(final_X_test)\n",
    "y_test_preds[0:10]"
   ]
  },
  {
   "cell_type": "code",
   "execution_count": 66,
   "id": "f0f3a336",
   "metadata": {
    "execution": {
     "iopub.execute_input": "2023-03-27T07:19:29.556623Z",
     "iopub.status.busy": "2023-03-27T07:19:29.555195Z",
     "iopub.status.idle": "2023-03-27T07:19:29.565039Z",
     "shell.execute_reply": "2023-03-27T07:19:29.563677Z"
    },
    "papermill": {
     "duration": 0.043212,
     "end_time": "2023-03-27T07:19:29.567692",
     "exception": false,
     "start_time": "2023-03-27T07:19:29.524480",
     "status": "completed"
    },
    "tags": []
   },
   "outputs": [
    {
     "data": {
      "text/plain": [
       "array([[3164,    0],\n",
       "       [   0,  336]])"
      ]
     },
     "execution_count": 66,
     "metadata": {},
     "output_type": "execute_result"
    }
   ],
   "source": [
    "from sklearn.metrics import confusion_matrix\n",
    "confusionmatrix = confusion_matrix(y_train,y_train_preds)\n",
    "confusionmatrix"
   ]
  },
  {
   "cell_type": "code",
   "execution_count": 67,
   "id": "e300c0a1",
   "metadata": {
    "execution": {
     "iopub.execute_input": "2023-03-27T07:19:29.629156Z",
     "iopub.status.busy": "2023-03-27T07:19:29.627884Z",
     "iopub.status.idle": "2023-03-27T07:19:29.637243Z",
     "shell.execute_reply": "2023-03-27T07:19:29.636005Z"
    },
    "papermill": {
     "duration": 0.042144,
     "end_time": "2023-03-27T07:19:29.639692",
     "exception": false,
     "start_time": "2023-03-27T07:19:29.597548",
     "status": "completed"
    },
    "tags": []
   },
   "outputs": [
    {
     "data": {
      "text/plain": [
       "array([[1322,   34],\n",
       "       [  29,  115]])"
      ]
     },
     "execution_count": 67,
     "metadata": {},
     "output_type": "execute_result"
    }
   ],
   "source": [
    "confusionmatrix = confusion_matrix(y_test,y_test_preds)\n",
    "confusionmatrix"
   ]
  },
  {
   "cell_type": "code",
   "execution_count": 68,
   "id": "9c980ce2",
   "metadata": {
    "execution": {
     "iopub.execute_input": "2023-03-27T07:19:29.700948Z",
     "iopub.status.busy": "2023-03-27T07:19:29.700560Z",
     "iopub.status.idle": "2023-03-27T07:19:29.709097Z",
     "shell.execute_reply": "2023-03-27T07:19:29.707765Z"
    },
    "papermill": {
     "duration": 0.042329,
     "end_time": "2023-03-27T07:19:29.711655",
     "exception": false,
     "start_time": "2023-03-27T07:19:29.669326",
     "status": "completed"
    },
    "tags": []
   },
   "outputs": [
    {
     "data": {
      "text/plain": [
       "1.0"
      ]
     },
     "execution_count": 68,
     "metadata": {},
     "output_type": "execute_result"
    }
   ],
   "source": [
    "from sklearn.metrics import accuracy_score\n",
    "accuracy_score(y_train,y_train_preds)"
   ]
  },
  {
   "cell_type": "code",
   "execution_count": 69,
   "id": "13efbfba",
   "metadata": {
    "execution": {
     "iopub.execute_input": "2023-03-27T07:19:29.774840Z",
     "iopub.status.busy": "2023-03-27T07:19:29.773555Z",
     "iopub.status.idle": "2023-03-27T07:19:29.781969Z",
     "shell.execute_reply": "2023-03-27T07:19:29.780625Z"
    },
    "papermill": {
     "duration": 0.042799,
     "end_time": "2023-03-27T07:19:29.784556",
     "exception": false,
     "start_time": "2023-03-27T07:19:29.741757",
     "status": "completed"
    },
    "tags": []
   },
   "outputs": [
    {
     "data": {
      "text/plain": [
       "0.958"
      ]
     },
     "execution_count": 69,
     "metadata": {},
     "output_type": "execute_result"
    }
   ],
   "source": [
    "accuracy_score(y_test,y_test_preds)"
   ]
  },
  {
   "cell_type": "markdown",
   "id": "7fa86d70",
   "metadata": {
    "papermill": {
     "duration": 0.029812,
     "end_time": "2023-03-27T07:19:29.843974",
     "exception": false,
     "start_time": "2023-03-27T07:19:29.814162",
     "status": "completed"
    },
    "tags": []
   },
   "source": [
    "## Random Forest"
   ]
  },
  {
   "cell_type": "code",
   "execution_count": 70,
   "id": "58e0999e",
   "metadata": {
    "execution": {
     "iopub.execute_input": "2023-03-27T07:19:29.906459Z",
     "iopub.status.busy": "2023-03-27T07:19:29.906027Z",
     "iopub.status.idle": "2023-03-27T07:19:30.037361Z",
     "shell.execute_reply": "2023-03-27T07:19:30.036003Z"
    },
    "papermill": {
     "duration": 0.166591,
     "end_time": "2023-03-27T07:19:30.040256",
     "exception": false,
     "start_time": "2023-03-27T07:19:29.873665",
     "status": "completed"
    },
    "tags": []
   },
   "outputs": [],
   "source": [
    "from sklearn.ensemble import RandomForestClassifier"
   ]
  },
  {
   "cell_type": "code",
   "execution_count": 71,
   "id": "8d3b62eb",
   "metadata": {
    "execution": {
     "iopub.execute_input": "2023-03-27T07:19:30.102095Z",
     "iopub.status.busy": "2023-03-27T07:19:30.101685Z",
     "iopub.status.idle": "2023-03-27T07:19:30.287413Z",
     "shell.execute_reply": "2023-03-27T07:19:30.285536Z"
    },
    "papermill": {
     "duration": 0.219965,
     "end_time": "2023-03-27T07:19:30.290330",
     "exception": false,
     "start_time": "2023-03-27T07:19:30.070365",
     "status": "completed"
    },
    "tags": []
   },
   "outputs": [],
   "source": [
    "rfc = RandomForestClassifier(n_estimators = 50, max_depth = 10, criterion=\"entropy\")\n",
    "rfc = rfc.fit(final_X_train, y_train)"
   ]
  },
  {
   "cell_type": "code",
   "execution_count": 72,
   "id": "ea1b95a1",
   "metadata": {
    "execution": {
     "iopub.execute_input": "2023-03-27T07:19:30.352899Z",
     "iopub.status.busy": "2023-03-27T07:19:30.352453Z",
     "iopub.status.idle": "2023-03-27T07:19:30.385299Z",
     "shell.execute_reply": "2023-03-27T07:19:30.383796Z"
    },
    "papermill": {
     "duration": 0.067307,
     "end_time": "2023-03-27T07:19:30.388207",
     "exception": false,
     "start_time": "2023-03-27T07:19:30.320900",
     "status": "completed"
    },
    "tags": []
   },
   "outputs": [
    {
     "data": {
      "text/plain": [
       "array([0, 0, 1, 0, 0, 0, 0, 0, 0, 0])"
      ]
     },
     "execution_count": 72,
     "metadata": {},
     "output_type": "execute_result"
    }
   ],
   "source": [
    "y_train_preds = rfc.predict(final_X_train)\n",
    "y_train_preds[0:10]"
   ]
  },
  {
   "cell_type": "code",
   "execution_count": 73,
   "id": "1e5d06a2",
   "metadata": {
    "execution": {
     "iopub.execute_input": "2023-03-27T07:19:30.456787Z",
     "iopub.status.busy": "2023-03-27T07:19:30.456304Z",
     "iopub.status.idle": "2023-03-27T07:19:30.483196Z",
     "shell.execute_reply": "2023-03-27T07:19:30.481362Z"
    },
    "papermill": {
     "duration": 0.066746,
     "end_time": "2023-03-27T07:19:30.486851",
     "exception": false,
     "start_time": "2023-03-27T07:19:30.420105",
     "status": "completed"
    },
    "tags": []
   },
   "outputs": [
    {
     "data": {
      "text/plain": [
       "array([0, 0, 1, 0, 0, 0, 0, 0, 0, 0])"
      ]
     },
     "execution_count": 73,
     "metadata": {},
     "output_type": "execute_result"
    }
   ],
   "source": [
    "y_test_preds = rfc.predict(final_X_test)\n",
    "y_test_preds[0:10]"
   ]
  },
  {
   "cell_type": "code",
   "execution_count": 74,
   "id": "cc6b7b14",
   "metadata": {
    "execution": {
     "iopub.execute_input": "2023-03-27T07:19:30.551105Z",
     "iopub.status.busy": "2023-03-27T07:19:30.550227Z",
     "iopub.status.idle": "2023-03-27T07:19:30.559577Z",
     "shell.execute_reply": "2023-03-27T07:19:30.558363Z"
    },
    "papermill": {
     "duration": 0.043958,
     "end_time": "2023-03-27T07:19:30.562116",
     "exception": false,
     "start_time": "2023-03-27T07:19:30.518158",
     "status": "completed"
    },
    "tags": []
   },
   "outputs": [
    {
     "data": {
      "text/plain": [
       "array([[1322,   34],\n",
       "       [  29,  115]])"
      ]
     },
     "execution_count": 74,
     "metadata": {},
     "output_type": "execute_result"
    }
   ],
   "source": [
    "from sklearn.metrics import confusion_matrix\n",
    "confusionma2trix = confusion_matrix(y_train,y_train_preds)\n",
    "confusionmatrix"
   ]
  },
  {
   "cell_type": "code",
   "execution_count": 75,
   "id": "2db63823",
   "metadata": {
    "execution": {
     "iopub.execute_input": "2023-03-27T07:19:30.625522Z",
     "iopub.status.busy": "2023-03-27T07:19:30.625077Z",
     "iopub.status.idle": "2023-03-27T07:19:30.634078Z",
     "shell.execute_reply": "2023-03-27T07:19:30.633039Z"
    },
    "papermill": {
     "duration": 0.043969,
     "end_time": "2023-03-27T07:19:30.636666",
     "exception": false,
     "start_time": "2023-03-27T07:19:30.592697",
     "status": "completed"
    },
    "tags": []
   },
   "outputs": [
    {
     "data": {
      "text/plain": [
       "array([[1344,   12],\n",
       "       [  37,  107]])"
      ]
     },
     "execution_count": 75,
     "metadata": {},
     "output_type": "execute_result"
    }
   ],
   "source": [
    "confusionmatrix = confusion_matrix(y_test,y_test_preds)\n",
    "confusionmatrix"
   ]
  },
  {
   "cell_type": "code",
   "execution_count": 76,
   "id": "1f1d6bc4",
   "metadata": {
    "execution": {
     "iopub.execute_input": "2023-03-27T07:19:30.703332Z",
     "iopub.status.busy": "2023-03-27T07:19:30.702556Z",
     "iopub.status.idle": "2023-03-27T07:19:30.710578Z",
     "shell.execute_reply": "2023-03-27T07:19:30.709136Z"
    },
    "papermill": {
     "duration": 0.044153,
     "end_time": "2023-03-27T07:19:30.713144",
     "exception": false,
     "start_time": "2023-03-27T07:19:30.668991",
     "status": "completed"
    },
    "tags": []
   },
   "outputs": [
    {
     "data": {
      "text/plain": [
       "0.9894285714285714"
      ]
     },
     "execution_count": 76,
     "metadata": {},
     "output_type": "execute_result"
    }
   ],
   "source": [
    "from sklearn.metrics import accuracy_score\n",
    "accuracy_score(y_train,y_train_preds)"
   ]
  },
  {
   "cell_type": "code",
   "execution_count": 77,
   "id": "a49d4c52",
   "metadata": {
    "execution": {
     "iopub.execute_input": "2023-03-27T07:19:30.778749Z",
     "iopub.status.busy": "2023-03-27T07:19:30.777526Z",
     "iopub.status.idle": "2023-03-27T07:19:30.784698Z",
     "shell.execute_reply": "2023-03-27T07:19:30.783856Z"
    },
    "papermill": {
     "duration": 0.043018,
     "end_time": "2023-03-27T07:19:30.787213",
     "exception": false,
     "start_time": "2023-03-27T07:19:30.744195",
     "status": "completed"
    },
    "tags": []
   },
   "outputs": [
    {
     "data": {
      "text/plain": [
       "0.9673333333333334"
      ]
     },
     "execution_count": 77,
     "metadata": {},
     "output_type": "execute_result"
    }
   ],
   "source": [
    "accuracy_score(y_test,y_test_preds)"
   ]
  },
  {
   "cell_type": "markdown",
   "id": "caaf0b12",
   "metadata": {
    "papermill": {
     "duration": 0.029761,
     "end_time": "2023-03-27T07:19:30.848608",
     "exception": false,
     "start_time": "2023-03-27T07:19:30.818847",
     "status": "completed"
    },
    "tags": []
   },
   "source": [
    "## XG Boost"
   ]
  },
  {
   "cell_type": "code",
   "execution_count": 78,
   "id": "679e80aa",
   "metadata": {
    "execution": {
     "iopub.execute_input": "2023-03-27T07:19:30.917457Z",
     "iopub.status.busy": "2023-03-27T07:19:30.916643Z",
     "iopub.status.idle": "2023-03-27T07:19:43.504282Z",
     "shell.execute_reply": "2023-03-27T07:19:43.502463Z"
    },
    "papermill": {
     "duration": 12.62855,
     "end_time": "2023-03-27T07:19:43.508290",
     "exception": false,
     "start_time": "2023-03-27T07:19:30.879740",
     "status": "completed"
    },
    "tags": []
   },
   "outputs": [
    {
     "name": "stdout",
     "output_type": "stream",
     "text": [
      "Requirement already satisfied: xgboost in /opt/conda/lib/python3.7/site-packages (1.6.2)\r\n",
      "Requirement already satisfied: scipy in /opt/conda/lib/python3.7/site-packages (from xgboost) (1.7.3)\r\n",
      "Requirement already satisfied: numpy in /opt/conda/lib/python3.7/site-packages (from xgboost) (1.21.6)\r\n",
      "\u001b[33mWARNING: Running pip as the 'root' user can result in broken permissions and conflicting behaviour with the system package manager. It is recommended to use a virtual environment instead: https://pip.pypa.io/warnings/venv\u001b[0m\u001b[33m\r\n",
      "\u001b[0m"
     ]
    }
   ],
   "source": [
    "!pip3 install xgboost"
   ]
  },
  {
   "cell_type": "code",
   "execution_count": 79,
   "id": "408eb615",
   "metadata": {
    "execution": {
     "iopub.execute_input": "2023-03-27T07:19:43.575397Z",
     "iopub.status.busy": "2023-03-27T07:19:43.574933Z",
     "iopub.status.idle": "2023-03-27T07:19:43.716314Z",
     "shell.execute_reply": "2023-03-27T07:19:43.714866Z"
    },
    "papermill": {
     "duration": 0.176897,
     "end_time": "2023-03-27T07:19:43.719315",
     "exception": false,
     "start_time": "2023-03-27T07:19:43.542418",
     "status": "completed"
    },
    "tags": []
   },
   "outputs": [],
   "source": [
    "from xgboost import XGBClassifier"
   ]
  },
  {
   "cell_type": "code",
   "execution_count": 80,
   "id": "b42ca77c",
   "metadata": {
    "execution": {
     "iopub.execute_input": "2023-03-27T07:19:43.783456Z",
     "iopub.status.busy": "2023-03-27T07:19:43.783007Z",
     "iopub.status.idle": "2023-03-27T07:19:44.224969Z",
     "shell.execute_reply": "2023-03-27T07:19:44.223917Z"
    },
    "papermill": {
     "duration": 0.477858,
     "end_time": "2023-03-27T07:19:44.228497",
     "exception": false,
     "start_time": "2023-03-27T07:19:43.750639",
     "status": "completed"
    },
    "tags": []
   },
   "outputs": [],
   "source": [
    "xgb = XGBClassifier()\n",
    "xgb = xgb.fit(final_X_train, y_train)"
   ]
  },
  {
   "cell_type": "code",
   "execution_count": 81,
   "id": "2075352f",
   "metadata": {
    "execution": {
     "iopub.execute_input": "2023-03-27T07:19:44.294428Z",
     "iopub.status.busy": "2023-03-27T07:19:44.293992Z",
     "iopub.status.idle": "2023-03-27T07:19:44.310225Z",
     "shell.execute_reply": "2023-03-27T07:19:44.309281Z"
    },
    "papermill": {
     "duration": 0.051586,
     "end_time": "2023-03-27T07:19:44.312679",
     "exception": false,
     "start_time": "2023-03-27T07:19:44.261093",
     "status": "completed"
    },
    "tags": []
   },
   "outputs": [
    {
     "data": {
      "text/plain": [
       "array([0, 0, 1, 0, 0, 0, 0, 0, 0, 0])"
      ]
     },
     "execution_count": 81,
     "metadata": {},
     "output_type": "execute_result"
    }
   ],
   "source": [
    "y_train_preds = xgb.predict(final_X_train)\n",
    "y_train_preds[0:10]"
   ]
  },
  {
   "cell_type": "code",
   "execution_count": 82,
   "id": "dc62cd8f",
   "metadata": {
    "execution": {
     "iopub.execute_input": "2023-03-27T07:19:44.380397Z",
     "iopub.status.busy": "2023-03-27T07:19:44.379941Z",
     "iopub.status.idle": "2023-03-27T07:19:44.397709Z",
     "shell.execute_reply": "2023-03-27T07:19:44.396686Z"
    },
    "papermill": {
     "duration": 0.055141,
     "end_time": "2023-03-27T07:19:44.400852",
     "exception": false,
     "start_time": "2023-03-27T07:19:44.345711",
     "status": "completed"
    },
    "tags": []
   },
   "outputs": [
    {
     "data": {
      "text/plain": [
       "array([0, 0, 1, 0, 0, 0, 0, 0, 0, 0])"
      ]
     },
     "execution_count": 82,
     "metadata": {},
     "output_type": "execute_result"
    }
   ],
   "source": [
    "y_test_preds = xgb.predict(final_X_test)\n",
    "y_test_preds[0:10]"
   ]
  },
  {
   "cell_type": "code",
   "execution_count": 83,
   "id": "1f82ad8a",
   "metadata": {
    "execution": {
     "iopub.execute_input": "2023-03-27T07:19:44.470338Z",
     "iopub.status.busy": "2023-03-27T07:19:44.469888Z",
     "iopub.status.idle": "2023-03-27T07:19:44.480100Z",
     "shell.execute_reply": "2023-03-27T07:19:44.479030Z"
    },
    "papermill": {
     "duration": 0.046425,
     "end_time": "2023-03-27T07:19:44.482580",
     "exception": false,
     "start_time": "2023-03-27T07:19:44.436155",
     "status": "completed"
    },
    "tags": []
   },
   "outputs": [
    {
     "data": {
      "text/plain": [
       "array([[3164,    0],\n",
       "       [   0,  336]])"
      ]
     },
     "execution_count": 83,
     "metadata": {},
     "output_type": "execute_result"
    }
   ],
   "source": [
    "from sklearn.metrics import confusion_matrix\n",
    "confusionmatrix = confusion_matrix(y_train,y_train_preds)\n",
    "confusionmatrix"
   ]
  },
  {
   "cell_type": "code",
   "execution_count": 84,
   "id": "f0e9219f",
   "metadata": {
    "execution": {
     "iopub.execute_input": "2023-03-27T07:19:44.550389Z",
     "iopub.status.busy": "2023-03-27T07:19:44.549476Z",
     "iopub.status.idle": "2023-03-27T07:19:44.558818Z",
     "shell.execute_reply": "2023-03-27T07:19:44.557724Z"
    },
    "papermill": {
     "duration": 0.046058,
     "end_time": "2023-03-27T07:19:44.561354",
     "exception": false,
     "start_time": "2023-03-27T07:19:44.515296",
     "status": "completed"
    },
    "tags": []
   },
   "outputs": [
    {
     "data": {
      "text/plain": [
       "array([[1346,   10],\n",
       "       [  30,  114]])"
      ]
     },
     "execution_count": 84,
     "metadata": {},
     "output_type": "execute_result"
    }
   ],
   "source": [
    "confusionmatrix = confusion_matrix(y_test,y_test_preds)\n",
    "confusionmatrix"
   ]
  },
  {
   "cell_type": "code",
   "execution_count": 85,
   "id": "ca289be6",
   "metadata": {
    "execution": {
     "iopub.execute_input": "2023-03-27T07:19:44.625019Z",
     "iopub.status.busy": "2023-03-27T07:19:44.624586Z",
     "iopub.status.idle": "2023-03-27T07:19:44.633366Z",
     "shell.execute_reply": "2023-03-27T07:19:44.632093Z"
    },
    "papermill": {
     "duration": 0.043415,
     "end_time": "2023-03-27T07:19:44.635770",
     "exception": false,
     "start_time": "2023-03-27T07:19:44.592355",
     "status": "completed"
    },
    "tags": []
   },
   "outputs": [
    {
     "data": {
      "text/plain": [
       "1.0"
      ]
     },
     "execution_count": 85,
     "metadata": {},
     "output_type": "execute_result"
    }
   ],
   "source": [
    "from sklearn.metrics import accuracy_score\n",
    "accuracy_score(y_train,y_train_preds)"
   ]
  },
  {
   "cell_type": "code",
   "execution_count": 86,
   "id": "bca3bd0d",
   "metadata": {
    "execution": {
     "iopub.execute_input": "2023-03-27T07:19:44.702825Z",
     "iopub.status.busy": "2023-03-27T07:19:44.702146Z",
     "iopub.status.idle": "2023-03-27T07:19:44.709336Z",
     "shell.execute_reply": "2023-03-27T07:19:44.708219Z"
    },
    "papermill": {
     "duration": 0.043476,
     "end_time": "2023-03-27T07:19:44.711720",
     "exception": false,
     "start_time": "2023-03-27T07:19:44.668244",
     "status": "completed"
    },
    "tags": []
   },
   "outputs": [
    {
     "data": {
      "text/plain": [
       "0.9733333333333334"
      ]
     },
     "execution_count": 86,
     "metadata": {},
     "output_type": "execute_result"
    }
   ],
   "source": [
    "accuracy_score(y_test,y_test_preds)"
   ]
  },
  {
   "cell_type": "markdown",
   "id": "b43f15c0",
   "metadata": {
    "papermill": {
     "duration": 0.031445,
     "end_time": "2023-03-27T07:19:44.774997",
     "exception": false,
     "start_time": "2023-03-27T07:19:44.743552",
     "status": "completed"
    },
    "tags": []
   },
   "source": [
    "# KNN"
   ]
  },
  {
   "cell_type": "code",
   "execution_count": 87,
   "id": "c19d7d63",
   "metadata": {
    "execution": {
     "iopub.execute_input": "2023-03-27T07:19:44.842396Z",
     "iopub.status.busy": "2023-03-27T07:19:44.841118Z",
     "iopub.status.idle": "2023-03-27T07:19:44.847064Z",
     "shell.execute_reply": "2023-03-27T07:19:44.845956Z"
    },
    "papermill": {
     "duration": 0.041489,
     "end_time": "2023-03-27T07:19:44.849683",
     "exception": false,
     "start_time": "2023-03-27T07:19:44.808194",
     "status": "completed"
    },
    "tags": []
   },
   "outputs": [],
   "source": [
    "from sklearn.neighbors import KNeighborsClassifier"
   ]
  },
  {
   "cell_type": "code",
   "execution_count": 88,
   "id": "f386d057",
   "metadata": {
    "execution": {
     "iopub.execute_input": "2023-03-27T07:19:44.917869Z",
     "iopub.status.busy": "2023-03-27T07:19:44.916638Z",
     "iopub.status.idle": "2023-03-27T07:19:44.928976Z",
     "shell.execute_reply": "2023-03-27T07:19:44.927578Z"
    },
    "papermill": {
     "duration": 0.05069,
     "end_time": "2023-03-27T07:19:44.932042",
     "exception": false,
     "start_time": "2023-03-27T07:19:44.881352",
     "status": "completed"
    },
    "tags": []
   },
   "outputs": [],
   "source": [
    "knn = KNeighborsClassifier()\n",
    "knn = knn.fit(final_X_train, y_train)"
   ]
  },
  {
   "cell_type": "code",
   "execution_count": 89,
   "id": "5acb813e",
   "metadata": {
    "execution": {
     "iopub.execute_input": "2023-03-27T07:19:44.997616Z",
     "iopub.status.busy": "2023-03-27T07:19:44.997172Z",
     "iopub.status.idle": "2023-03-27T07:19:45.152332Z",
     "shell.execute_reply": "2023-03-27T07:19:45.150977Z"
    },
    "papermill": {
     "duration": 0.191767,
     "end_time": "2023-03-27T07:19:45.155472",
     "exception": false,
     "start_time": "2023-03-27T07:19:44.963705",
     "status": "completed"
    },
    "tags": []
   },
   "outputs": [
    {
     "data": {
      "text/plain": [
       "array([0, 0, 1, 0, 0, 0, 0, 0, 0, 0])"
      ]
     },
     "execution_count": 89,
     "metadata": {},
     "output_type": "execute_result"
    }
   ],
   "source": [
    "y_train_preds = knn.predict(final_X_train)\n",
    "y_train_preds[0:10]"
   ]
  },
  {
   "cell_type": "code",
   "execution_count": 90,
   "id": "1275f0a7",
   "metadata": {
    "execution": {
     "iopub.execute_input": "2023-03-27T07:19:45.221924Z",
     "iopub.status.busy": "2023-03-27T07:19:45.221503Z",
     "iopub.status.idle": "2023-03-27T07:19:45.294852Z",
     "shell.execute_reply": "2023-03-27T07:19:45.293564Z"
    },
    "papermill": {
     "duration": 0.110761,
     "end_time": "2023-03-27T07:19:45.297518",
     "exception": false,
     "start_time": "2023-03-27T07:19:45.186757",
     "status": "completed"
    },
    "tags": []
   },
   "outputs": [
    {
     "data": {
      "text/plain": [
       "array([0, 0, 1, 0, 0, 0, 0, 0, 0, 0])"
      ]
     },
     "execution_count": 90,
     "metadata": {},
     "output_type": "execute_result"
    }
   ],
   "source": [
    "y_test_preds = knn.predict(final_X_test)\n",
    "y_test_preds[0:10]"
   ]
  },
  {
   "cell_type": "code",
   "execution_count": 91,
   "id": "305b2b51",
   "metadata": {
    "execution": {
     "iopub.execute_input": "2023-03-27T07:19:45.437891Z",
     "iopub.status.busy": "2023-03-27T07:19:45.437418Z",
     "iopub.status.idle": "2023-03-27T07:19:45.447062Z",
     "shell.execute_reply": "2023-03-27T07:19:45.445791Z"
    },
    "papermill": {
     "duration": 0.046966,
     "end_time": "2023-03-27T07:19:45.449668",
     "exception": false,
     "start_time": "2023-03-27T07:19:45.402702",
     "status": "completed"
    },
    "tags": []
   },
   "outputs": [
    {
     "data": {
      "text/plain": [
       "array([[3154,   10],\n",
       "       [ 114,  222]])"
      ]
     },
     "execution_count": 91,
     "metadata": {},
     "output_type": "execute_result"
    }
   ],
   "source": [
    "confusionmatrix = confusion_matrix(y_train,y_train_preds)\n",
    "confusionmatrix"
   ]
  },
  {
   "cell_type": "code",
   "execution_count": 92,
   "id": "974babb0",
   "metadata": {
    "execution": {
     "iopub.execute_input": "2023-03-27T07:19:45.516994Z",
     "iopub.status.busy": "2023-03-27T07:19:45.516412Z",
     "iopub.status.idle": "2023-03-27T07:19:45.526398Z",
     "shell.execute_reply": "2023-03-27T07:19:45.524877Z"
    },
    "papermill": {
     "duration": 0.046463,
     "end_time": "2023-03-27T07:19:45.529117",
     "exception": false,
     "start_time": "2023-03-27T07:19:45.482654",
     "status": "completed"
    },
    "tags": []
   },
   "outputs": [
    {
     "data": {
      "text/plain": [
       "array([[1351,    5],\n",
       "       [  59,   85]])"
      ]
     },
     "execution_count": 92,
     "metadata": {},
     "output_type": "execute_result"
    }
   ],
   "source": [
    "confusionmatrix = confusion_matrix(y_test,y_test_preds)\n",
    "confusionmatrix"
   ]
  },
  {
   "cell_type": "code",
   "execution_count": 93,
   "id": "6f2805ed",
   "metadata": {
    "execution": {
     "iopub.execute_input": "2023-03-27T07:19:45.596761Z",
     "iopub.status.busy": "2023-03-27T07:19:45.596317Z",
     "iopub.status.idle": "2023-03-27T07:19:45.605069Z",
     "shell.execute_reply": "2023-03-27T07:19:45.603752Z"
    },
    "papermill": {
     "duration": 0.045708,
     "end_time": "2023-03-27T07:19:45.607465",
     "exception": false,
     "start_time": "2023-03-27T07:19:45.561757",
     "status": "completed"
    },
    "tags": []
   },
   "outputs": [
    {
     "data": {
      "text/plain": [
       "0.9645714285714285"
      ]
     },
     "execution_count": 93,
     "metadata": {},
     "output_type": "execute_result"
    }
   ],
   "source": [
    "accuracy_score(y_train,y_train_preds)"
   ]
  },
  {
   "cell_type": "code",
   "execution_count": 94,
   "id": "0b30604a",
   "metadata": {
    "execution": {
     "iopub.execute_input": "2023-03-27T07:19:45.673816Z",
     "iopub.status.busy": "2023-03-27T07:19:45.673359Z",
     "iopub.status.idle": "2023-03-27T07:19:45.681635Z",
     "shell.execute_reply": "2023-03-27T07:19:45.680689Z"
    },
    "papermill": {
     "duration": 0.043925,
     "end_time": "2023-03-27T07:19:45.683857",
     "exception": false,
     "start_time": "2023-03-27T07:19:45.639932",
     "status": "completed"
    },
    "tags": []
   },
   "outputs": [
    {
     "data": {
      "text/plain": [
       "0.9573333333333334"
      ]
     },
     "execution_count": 94,
     "metadata": {},
     "output_type": "execute_result"
    }
   ],
   "source": [
    "accuracy_score(y_test,y_test_preds)"
   ]
  },
  {
   "cell_type": "code",
   "execution_count": 95,
   "id": "400bcdbb",
   "metadata": {
    "execution": {
     "iopub.execute_input": "2023-03-27T07:19:45.751499Z",
     "iopub.status.busy": "2023-03-27T07:19:45.751018Z",
     "iopub.status.idle": "2023-03-27T07:19:45.756225Z",
     "shell.execute_reply": "2023-03-27T07:19:45.755007Z"
    },
    "papermill": {
     "duration": 0.040974,
     "end_time": "2023-03-27T07:19:45.758738",
     "exception": false,
     "start_time": "2023-03-27T07:19:45.717764",
     "status": "completed"
    },
    "tags": []
   },
   "outputs": [],
   "source": [
    "#KNN"
   ]
  }
 ],
 "metadata": {
  "kernelspec": {
   "display_name": "Python 3",
   "language": "python",
   "name": "python3"
  },
  "language_info": {
   "codemirror_mode": {
    "name": "ipython",
    "version": 3
   },
   "file_extension": ".py",
   "mimetype": "text/x-python",
   "name": "python",
   "nbconvert_exporter": "python",
   "pygments_lexer": "ipython3",
   "version": "3.7.12"
  },
  "papermill": {
   "default_parameters": {},
   "duration": 37.102034,
   "end_time": "2023-03-27T07:19:46.715536",
   "environment_variables": {},
   "exception": null,
   "input_path": "__notebook__.ipynb",
   "output_path": "__notebook__.ipynb",
   "parameters": {},
   "start_time": "2023-03-27T07:19:09.613502",
   "version": "2.4.0"
  }
 },
 "nbformat": 4,
 "nbformat_minor": 5
}
